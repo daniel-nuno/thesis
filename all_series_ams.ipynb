{
 "cells": [
  {
   "cell_type": "code",
   "execution_count": 31,
   "metadata": {},
   "outputs": [],
   "source": [
    "import pandas as pd\n",
    "import numpy as np\n",
    "import matplotlib.pyplot as plt\n",
    "\n",
    "from statsforecast import StatsForecast\n",
    "from statsforecast.models import AutoARIMA\n",
    "\n",
    "from sklearn.preprocessing import PowerTransformer, MinMaxScaler"
   ]
  },
  {
   "cell_type": "code",
   "execution_count": 32,
   "metadata": {},
   "outputs": [],
   "source": [
    "#load\n",
    "data_raw_cost = pd.read_excel('dataset_cost_emea.xlsx', sheet_name='cost')"
   ]
  },
  {
   "cell_type": "code",
   "execution_count": 33,
   "metadata": {},
   "outputs": [
    {
     "data": {
      "text/html": [
       "<div>\n",
       "<style scoped>\n",
       "    .dataframe tbody tr th:only-of-type {\n",
       "        vertical-align: middle;\n",
       "    }\n",
       "\n",
       "    .dataframe tbody tr th {\n",
       "        vertical-align: top;\n",
       "    }\n",
       "\n",
       "    .dataframe thead th {\n",
       "        text-align: right;\n",
       "    }\n",
       "</style>\n",
       "<table border=\"1\" class=\"dataframe\">\n",
       "  <thead>\n",
       "    <tr style=\"text-align: right;\">\n",
       "      <th></th>\n",
       "      <th>04 FISCAL MONTH</th>\n",
       "      <th>02 SUPER REGION</th>\n",
       "      <th>03 SUB SEGMENT</th>\n",
       "      <th>Contact Center OH Expense</th>\n",
       "      <th>CS HQ Owned and Allocated</th>\n",
       "      <th>Delivery</th>\n",
       "      <th>Delivery OH</th>\n",
       "      <th>GBU Owned and Allocated</th>\n",
       "      <th>Level 2 Support</th>\n",
       "      <th>Non-Phone Expense</th>\n",
       "      <th>Phone Support Expense</th>\n",
       "      <th>Supply Chain</th>\n",
       "      <th>Supply Chain OH</th>\n",
       "    </tr>\n",
       "  </thead>\n",
       "  <tbody>\n",
       "    <tr>\n",
       "      <th>0</th>\n",
       "      <td>201611</td>\n",
       "      <td>EMEA</td>\n",
       "      <td>BPS</td>\n",
       "      <td>0.0</td>\n",
       "      <td>693664.238160</td>\n",
       "      <td>3.323405e+06</td>\n",
       "      <td>0.0</td>\n",
       "      <td>179463.740000</td>\n",
       "      <td>0.0</td>\n",
       "      <td>174111.340000</td>\n",
       "      <td>813451.070000</td>\n",
       "      <td>6.439089e+06</td>\n",
       "      <td>0.0</td>\n",
       "    </tr>\n",
       "    <tr>\n",
       "      <th>1</th>\n",
       "      <td>201611</td>\n",
       "      <td>EMEA</td>\n",
       "      <td>CPS</td>\n",
       "      <td>0.0</td>\n",
       "      <td>364780.164371</td>\n",
       "      <td>1.888109e+06</td>\n",
       "      <td>0.0</td>\n",
       "      <td>35326.430000</td>\n",
       "      <td>0.0</td>\n",
       "      <td>167815.500000</td>\n",
       "      <td>629873.292110</td>\n",
       "      <td>2.018374e+06</td>\n",
       "      <td>0.0</td>\n",
       "    </tr>\n",
       "    <tr>\n",
       "      <th>2</th>\n",
       "      <td>201611</td>\n",
       "      <td>EMEA</td>\n",
       "      <td>HPS</td>\n",
       "      <td>0.0</td>\n",
       "      <td>197914.713908</td>\n",
       "      <td>8.743848e+04</td>\n",
       "      <td>0.0</td>\n",
       "      <td>236469.985660</td>\n",
       "      <td>0.0</td>\n",
       "      <td>11510.932293</td>\n",
       "      <td>783365.805755</td>\n",
       "      <td>2.081316e+06</td>\n",
       "      <td>0.0</td>\n",
       "    </tr>\n",
       "    <tr>\n",
       "      <th>3</th>\n",
       "      <td>201611</td>\n",
       "      <td>EMEA</td>\n",
       "      <td>HPS Supplies</td>\n",
       "      <td>0.0</td>\n",
       "      <td>0.000000</td>\n",
       "      <td>1.182815e+04</td>\n",
       "      <td>0.0</td>\n",
       "      <td>39964.321996</td>\n",
       "      <td>0.0</td>\n",
       "      <td>0.000000</td>\n",
       "      <td>96773.087480</td>\n",
       "      <td>9.052318e+04</td>\n",
       "      <td>0.0</td>\n",
       "    </tr>\n",
       "    <tr>\n",
       "      <th>4</th>\n",
       "      <td>201611</td>\n",
       "      <td>EMEA</td>\n",
       "      <td>OPS</td>\n",
       "      <td>0.0</td>\n",
       "      <td>200157.794252</td>\n",
       "      <td>5.793384e+05</td>\n",
       "      <td>0.0</td>\n",
       "      <td>634820.669357</td>\n",
       "      <td>0.0</td>\n",
       "      <td>161122.480000</td>\n",
       "      <td>240401.428957</td>\n",
       "      <td>1.766240e+06</td>\n",
       "      <td>0.0</td>\n",
       "    </tr>\n",
       "  </tbody>\n",
       "</table>\n",
       "</div>"
      ],
      "text/plain": [
       "   04 FISCAL MONTH 02 SUPER REGION 03 SUB SEGMENT  Contact Center OH Expense  \\\n",
       "0           201611            EMEA            BPS                        0.0   \n",
       "1           201611            EMEA            CPS                        0.0   \n",
       "2           201611            EMEA            HPS                        0.0   \n",
       "3           201611            EMEA   HPS Supplies                        0.0   \n",
       "4           201611            EMEA            OPS                        0.0   \n",
       "\n",
       "   CS HQ Owned and Allocated      Delivery  Delivery OH  \\\n",
       "0              693664.238160  3.323405e+06          0.0   \n",
       "1              364780.164371  1.888109e+06          0.0   \n",
       "2              197914.713908  8.743848e+04          0.0   \n",
       "3                   0.000000  1.182815e+04          0.0   \n",
       "4              200157.794252  5.793384e+05          0.0   \n",
       "\n",
       "   GBU Owned and Allocated  Level 2 Support  Non-Phone Expense  \\\n",
       "0            179463.740000              0.0      174111.340000   \n",
       "1             35326.430000              0.0      167815.500000   \n",
       "2            236469.985660              0.0       11510.932293   \n",
       "3             39964.321996              0.0           0.000000   \n",
       "4            634820.669357              0.0      161122.480000   \n",
       "\n",
       "   Phone Support Expense  Supply Chain  Supply Chain OH  \n",
       "0          813451.070000  6.439089e+06              0.0  \n",
       "1          629873.292110  2.018374e+06              0.0  \n",
       "2          783365.805755  2.081316e+06              0.0  \n",
       "3           96773.087480  9.052318e+04              0.0  \n",
       "4          240401.428957  1.766240e+06              0.0  "
      ]
     },
     "execution_count": 33,
     "metadata": {},
     "output_type": "execute_result"
    }
   ],
   "source": [
    "data_raw_cost.head()"
   ]
  },
  {
   "cell_type": "code",
   "execution_count": 34,
   "metadata": {},
   "outputs": [],
   "source": [
    "data_raw_cost = data_raw_cost.melt(id_vars=('04 FISCAL MONTH', '02 SUPER REGION', '03 SUB SEGMENT'), value_vars=('Contact Center OH Expense',\n",
    "                                                                                            'CS HQ Owned and Allocated',\n",
    "                                                                                            'Delivery',\n",
    "                                                                                            'Delivery OH',\n",
    "                                                                                            'GBU Owned and Allocated',\n",
    "                                                                                            'Level 2 Support',\n",
    "                                                                                            'Non-Phone Expense',\n",
    "                                                                                            'Phone Support Expense',\n",
    "                                                                                            'Supply Chain',\n",
    "                                                                                            'Supply Chain OH'), var_name='line_cost', value_name='y')\n",
    "\n",
    "data_raw_cost = data_raw_cost.groupby(by=['04 FISCAL MONTH', '02 SUPER REGION', '03 SUB SEGMENT', 'line_cost'], as_index=False)['y'].sum()"
   ]
  },
  {
   "cell_type": "code",
   "execution_count": 35,
   "metadata": {},
   "outputs": [],
   "source": [
    "data_raw_reg = pd.read_excel('dataset_cost_emea.xlsx', sheet_name='reg')"
   ]
  },
  {
   "cell_type": "code",
   "execution_count": 36,
   "metadata": {},
   "outputs": [
    {
     "data": {
      "text/html": [
       "<div>\n",
       "<style scoped>\n",
       "    .dataframe tbody tr th:only-of-type {\n",
       "        vertical-align: middle;\n",
       "    }\n",
       "\n",
       "    .dataframe tbody tr th {\n",
       "        vertical-align: top;\n",
       "    }\n",
       "\n",
       "    .dataframe thead th {\n",
       "        text-align: right;\n",
       "    }\n",
       "</style>\n",
       "<table border=\"1\" class=\"dataframe\">\n",
       "  <thead>\n",
       "    <tr style=\"text-align: right;\">\n",
       "      <th></th>\n",
       "      <th>04 FISCAL MONTH</th>\n",
       "      <th>02 SUPER REGION</th>\n",
       "      <th>03 SUB SEGMENT</th>\n",
       "      <th>Total Number of Calls</th>\n",
       "      <th>Total Number of Repair Events</th>\n",
       "      <th>WIB</th>\n",
       "    </tr>\n",
       "  </thead>\n",
       "  <tbody>\n",
       "    <tr>\n",
       "      <th>0</th>\n",
       "      <td>201611</td>\n",
       "      <td>EMEA</td>\n",
       "      <td>BPS</td>\n",
       "      <td>124468.488370</td>\n",
       "      <td>66802.000000</td>\n",
       "      <td>33797240.0</td>\n",
       "    </tr>\n",
       "    <tr>\n",
       "      <th>1</th>\n",
       "      <td>201611</td>\n",
       "      <td>EMEA</td>\n",
       "      <td>CPS</td>\n",
       "      <td>66787.702776</td>\n",
       "      <td>34471.957197</td>\n",
       "      <td>8775266.0</td>\n",
       "    </tr>\n",
       "    <tr>\n",
       "      <th>2</th>\n",
       "      <td>201611</td>\n",
       "      <td>EMEA</td>\n",
       "      <td>HPS</td>\n",
       "      <td>75964.968572</td>\n",
       "      <td>25038.816923</td>\n",
       "      <td>9872760.0</td>\n",
       "    </tr>\n",
       "    <tr>\n",
       "      <th>3</th>\n",
       "      <td>201611</td>\n",
       "      <td>EMEA</td>\n",
       "      <td>HPS Supplies</td>\n",
       "      <td>7924.010000</td>\n",
       "      <td>4127.000000</td>\n",
       "      <td>116588789.0</td>\n",
       "    </tr>\n",
       "    <tr>\n",
       "      <th>4</th>\n",
       "      <td>201611</td>\n",
       "      <td>EMEA</td>\n",
       "      <td>OPS</td>\n",
       "      <td>27143.488059</td>\n",
       "      <td>9259.000000</td>\n",
       "      <td>1754763.0</td>\n",
       "    </tr>\n",
       "  </tbody>\n",
       "</table>\n",
       "</div>"
      ],
      "text/plain": [
       "   04 FISCAL MONTH 02 SUPER REGION 03 SUB SEGMENT  Total Number of Calls  \\\n",
       "0           201611            EMEA            BPS          124468.488370   \n",
       "1           201611            EMEA            CPS           66787.702776   \n",
       "2           201611            EMEA            HPS           75964.968572   \n",
       "3           201611            EMEA   HPS Supplies            7924.010000   \n",
       "4           201611            EMEA            OPS           27143.488059   \n",
       "\n",
       "   Total Number of Repair Events          WIB  \n",
       "0                   66802.000000   33797240.0  \n",
       "1                   34471.957197    8775266.0  \n",
       "2                   25038.816923    9872760.0  \n",
       "3                    4127.000000  116588789.0  \n",
       "4                    9259.000000    1754763.0  "
      ]
     },
     "execution_count": 36,
     "metadata": {},
     "output_type": "execute_result"
    }
   ],
   "source": [
    "data_raw_reg.head()"
   ]
  },
  {
   "cell_type": "code",
   "execution_count": 37,
   "metadata": {},
   "outputs": [],
   "source": [
    "all_data = pd.merge(data_raw_cost, data_raw_reg, how='right', on=['04 FISCAL MONTH', '02 SUPER REGION', '03 SUB SEGMENT'])\n",
    "all_data.reset_index(inplace=True, drop=True)"
   ]
  },
  {
   "cell_type": "code",
   "execution_count": 38,
   "metadata": {},
   "outputs": [
    {
     "data": {
      "text/html": [
       "<div>\n",
       "<style scoped>\n",
       "    .dataframe tbody tr th:only-of-type {\n",
       "        vertical-align: middle;\n",
       "    }\n",
       "\n",
       "    .dataframe tbody tr th {\n",
       "        vertical-align: top;\n",
       "    }\n",
       "\n",
       "    .dataframe thead th {\n",
       "        text-align: right;\n",
       "    }\n",
       "</style>\n",
       "<table border=\"1\" class=\"dataframe\">\n",
       "  <thead>\n",
       "    <tr style=\"text-align: right;\">\n",
       "      <th></th>\n",
       "      <th>04 FISCAL MONTH</th>\n",
       "      <th>02 SUPER REGION</th>\n",
       "      <th>03 SUB SEGMENT</th>\n",
       "      <th>line_cost</th>\n",
       "      <th>y</th>\n",
       "      <th>Total Number of Calls</th>\n",
       "      <th>Total Number of Repair Events</th>\n",
       "      <th>WIB</th>\n",
       "    </tr>\n",
       "  </thead>\n",
       "  <tbody>\n",
       "    <tr>\n",
       "      <th>0</th>\n",
       "      <td>201611</td>\n",
       "      <td>EMEA</td>\n",
       "      <td>BPS</td>\n",
       "      <td>CS HQ Owned and Allocated</td>\n",
       "      <td>6.936642e+05</td>\n",
       "      <td>124468.48837</td>\n",
       "      <td>66802.0</td>\n",
       "      <td>33797240.0</td>\n",
       "    </tr>\n",
       "    <tr>\n",
       "      <th>1</th>\n",
       "      <td>201611</td>\n",
       "      <td>EMEA</td>\n",
       "      <td>BPS</td>\n",
       "      <td>Contact Center OH Expense</td>\n",
       "      <td>0.000000e+00</td>\n",
       "      <td>124468.48837</td>\n",
       "      <td>66802.0</td>\n",
       "      <td>33797240.0</td>\n",
       "    </tr>\n",
       "    <tr>\n",
       "      <th>2</th>\n",
       "      <td>201611</td>\n",
       "      <td>EMEA</td>\n",
       "      <td>BPS</td>\n",
       "      <td>Delivery</td>\n",
       "      <td>3.323405e+06</td>\n",
       "      <td>124468.48837</td>\n",
       "      <td>66802.0</td>\n",
       "      <td>33797240.0</td>\n",
       "    </tr>\n",
       "    <tr>\n",
       "      <th>3</th>\n",
       "      <td>201611</td>\n",
       "      <td>EMEA</td>\n",
       "      <td>BPS</td>\n",
       "      <td>Delivery OH</td>\n",
       "      <td>0.000000e+00</td>\n",
       "      <td>124468.48837</td>\n",
       "      <td>66802.0</td>\n",
       "      <td>33797240.0</td>\n",
       "    </tr>\n",
       "    <tr>\n",
       "      <th>4</th>\n",
       "      <td>201611</td>\n",
       "      <td>EMEA</td>\n",
       "      <td>BPS</td>\n",
       "      <td>GBU Owned and Allocated</td>\n",
       "      <td>1.794637e+05</td>\n",
       "      <td>124468.48837</td>\n",
       "      <td>66802.0</td>\n",
       "      <td>33797240.0</td>\n",
       "    </tr>\n",
       "  </tbody>\n",
       "</table>\n",
       "</div>"
      ],
      "text/plain": [
       "   04 FISCAL MONTH 02 SUPER REGION 03 SUB SEGMENT                  line_cost  \\\n",
       "0           201611            EMEA            BPS  CS HQ Owned and Allocated   \n",
       "1           201611            EMEA            BPS  Contact Center OH Expense   \n",
       "2           201611            EMEA            BPS                   Delivery   \n",
       "3           201611            EMEA            BPS                Delivery OH   \n",
       "4           201611            EMEA            BPS    GBU Owned and Allocated   \n",
       "\n",
       "              y  Total Number of Calls  Total Number of Repair Events  \\\n",
       "0  6.936642e+05           124468.48837                        66802.0   \n",
       "1  0.000000e+00           124468.48837                        66802.0   \n",
       "2  3.323405e+06           124468.48837                        66802.0   \n",
       "3  0.000000e+00           124468.48837                        66802.0   \n",
       "4  1.794637e+05           124468.48837                        66802.0   \n",
       "\n",
       "          WIB  \n",
       "0  33797240.0  \n",
       "1  33797240.0  \n",
       "2  33797240.0  \n",
       "3  33797240.0  \n",
       "4  33797240.0  "
      ]
     },
     "execution_count": 38,
     "metadata": {},
     "output_type": "execute_result"
    }
   ],
   "source": [
    "all_data.head()"
   ]
  },
  {
   "cell_type": "code",
   "execution_count": 39,
   "metadata": {},
   "outputs": [],
   "source": [
    "month_as_date_str_start = [str(x)[:4] + '-' + str(x)[4:] for x in all_data['04 FISCAL MONTH']]"
   ]
  },
  {
   "cell_type": "code",
   "execution_count": 40,
   "metadata": {},
   "outputs": [],
   "source": [
    "month_date_start = pd.to_datetime(month_as_date_str_start)"
   ]
  },
  {
   "cell_type": "code",
   "execution_count": 41,
   "metadata": {},
   "outputs": [],
   "source": [
    "month_as_date_str_end = [str(x.year) + '-' + str(x.month) + '-' + str(x.days_in_month) for x in month_date_start]"
   ]
  },
  {
   "cell_type": "code",
   "execution_count": 42,
   "metadata": {},
   "outputs": [],
   "source": [
    "month_date_end = pd.to_datetime(month_as_date_str_end)"
   ]
  },
  {
   "cell_type": "code",
   "execution_count": 43,
   "metadata": {},
   "outputs": [],
   "source": [
    "all_data['ds'] = month_date_end"
   ]
  },
  {
   "cell_type": "code",
   "execution_count": 44,
   "metadata": {},
   "outputs": [],
   "source": [
    "all_data['unique_id'] = all_data['02 SUPER REGION'] + \"_\" + all_data['03 SUB SEGMENT'] + \"_\"+ all_data['line_cost']"
   ]
  },
  {
   "cell_type": "code",
   "execution_count": 45,
   "metadata": {},
   "outputs": [],
   "source": [
    "Y_df = all_data[['ds',\n",
    "                'unique_id',\n",
    "                'y']]\n",
    "\n",
    "X_df = all_data[['ds',\n",
    "                'unique_id',\n",
    "                'WIB',\n",
    "                'Total Number of Calls',\n",
    "                'Total Number of Repair Events']]"
   ]
  },
  {
   "cell_type": "code",
   "execution_count": 46,
   "metadata": {},
   "outputs": [],
   "source": [
    "dates = month_date_end.unique()\n",
    "dtrain = dates[:-3]\n",
    "dtest = dates[-3:]"
   ]
  },
  {
   "cell_type": "code",
   "execution_count": 47,
   "metadata": {},
   "outputs": [
    {
     "data": {
      "text/plain": [
       "DatetimeIndex(['2016-11-30', '2016-12-31', '2017-01-31', '2017-02-28',\n",
       "               '2017-03-31', '2017-04-30', '2017-05-31', '2017-06-30',\n",
       "               '2017-07-31', '2017-08-31', '2017-09-30', '2017-10-31',\n",
       "               '2017-11-30', '2017-12-31', '2018-01-31', '2018-02-28',\n",
       "               '2018-03-31', '2018-04-30', '2018-05-31', '2018-06-30',\n",
       "               '2018-07-31', '2018-08-31', '2018-09-30', '2018-10-31',\n",
       "               '2018-11-30', '2018-12-31', '2019-01-31', '2019-02-28',\n",
       "               '2019-03-31', '2019-04-30', '2019-05-31', '2019-06-30',\n",
       "               '2019-07-31', '2019-08-31', '2019-09-30', '2019-10-31',\n",
       "               '2019-11-30', '2019-12-31', '2020-01-31', '2020-02-29',\n",
       "               '2020-03-31', '2020-04-30', '2020-05-31', '2020-06-30',\n",
       "               '2020-07-31', '2020-08-31', '2020-09-30', '2020-10-31',\n",
       "               '2020-11-30', '2020-12-31', '2021-01-31', '2021-02-28',\n",
       "               '2021-03-31', '2021-04-30', '2021-05-31', '2021-06-30',\n",
       "               '2021-07-31', '2021-08-31', '2021-09-30', '2021-10-31',\n",
       "               '2021-11-30', '2021-12-31', '2022-01-31', '2022-02-28',\n",
       "               '2022-03-31', '2022-04-30', '2022-05-31', '2022-06-30',\n",
       "               '2022-07-31', '2022-08-31', '2022-09-30', '2022-10-31',\n",
       "               '2022-11-30', '2022-12-31', '2023-01-31', '2023-02-28'],\n",
       "              dtype='datetime64[ns]', freq=None)"
      ]
     },
     "execution_count": 47,
     "metadata": {},
     "output_type": "execute_result"
    }
   ],
   "source": [
    "dtrain"
   ]
  },
  {
   "cell_type": "code",
   "execution_count": 48,
   "metadata": {},
   "outputs": [
    {
     "data": {
      "text/plain": [
       "DatetimeIndex(['2023-03-31', '2023-04-30', '2023-05-31'], dtype='datetime64[ns]', freq=None)"
      ]
     },
     "execution_count": 48,
     "metadata": {},
     "output_type": "execute_result"
    }
   ],
   "source": [
    "dtest"
   ]
  },
  {
   "cell_type": "code",
   "execution_count": 49,
   "metadata": {},
   "outputs": [],
   "source": [
    "Y_train = Y_df.query('ds in @dtrain')\n",
    "Y_test = Y_df.query('ds in @dtest')\n",
    "\n",
    "X_train = X_df.query('ds in @dtrain') \n",
    "X_test = X_df.query('ds in @dtest')"
   ]
  },
  {
   "cell_type": "code",
   "execution_count": 50,
   "metadata": {},
   "outputs": [
    {
     "data": {
      "text/plain": [
       "(60, 60)"
      ]
     },
     "execution_count": 50,
     "metadata": {},
     "output_type": "execute_result"
    }
   ],
   "source": [
    "len(Y_train.unique_id.unique()), len(Y_test.unique_id.unique())"
   ]
  },
  {
   "cell_type": "code",
   "execution_count": 51,
   "metadata": {},
   "outputs": [
    {
     "data": {
      "text/plain": [
       "(60, 60)"
      ]
     },
     "execution_count": 51,
     "metadata": {},
     "output_type": "execute_result"
    }
   ],
   "source": [
    "len(X_train.unique_id.unique()), len(X_test.unique_id.unique())"
   ]
  },
  {
   "cell_type": "code",
   "execution_count": 52,
   "metadata": {},
   "outputs": [
    {
     "data": {
      "text/html": [
       "<div>\n",
       "<style scoped>\n",
       "    .dataframe tbody tr th:only-of-type {\n",
       "        vertical-align: middle;\n",
       "    }\n",
       "\n",
       "    .dataframe tbody tr th {\n",
       "        vertical-align: top;\n",
       "    }\n",
       "\n",
       "    .dataframe thead th {\n",
       "        text-align: right;\n",
       "    }\n",
       "</style>\n",
       "<table border=\"1\" class=\"dataframe\">\n",
       "  <thead>\n",
       "    <tr style=\"text-align: right;\">\n",
       "      <th></th>\n",
       "      <th>ds</th>\n",
       "      <th>unique_id</th>\n",
       "      <th>y</th>\n",
       "      <th>WIB</th>\n",
       "      <th>Total Number of Calls</th>\n",
       "      <th>Total Number of Repair Events</th>\n",
       "    </tr>\n",
       "  </thead>\n",
       "  <tbody>\n",
       "    <tr>\n",
       "      <th>0</th>\n",
       "      <td>2016-11-30</td>\n",
       "      <td>EMEA_BPS_CS HQ Owned and Allocated</td>\n",
       "      <td>6.936642e+05</td>\n",
       "      <td>33797240.0</td>\n",
       "      <td>124468.48837</td>\n",
       "      <td>66802.0</td>\n",
       "    </tr>\n",
       "    <tr>\n",
       "      <th>1</th>\n",
       "      <td>2016-11-30</td>\n",
       "      <td>EMEA_BPS_Contact Center OH Expense</td>\n",
       "      <td>0.000000e+00</td>\n",
       "      <td>33797240.0</td>\n",
       "      <td>124468.48837</td>\n",
       "      <td>66802.0</td>\n",
       "    </tr>\n",
       "    <tr>\n",
       "      <th>2</th>\n",
       "      <td>2016-11-30</td>\n",
       "      <td>EMEA_BPS_Delivery</td>\n",
       "      <td>3.323405e+06</td>\n",
       "      <td>33797240.0</td>\n",
       "      <td>124468.48837</td>\n",
       "      <td>66802.0</td>\n",
       "    </tr>\n",
       "    <tr>\n",
       "      <th>3</th>\n",
       "      <td>2016-11-30</td>\n",
       "      <td>EMEA_BPS_Delivery OH</td>\n",
       "      <td>0.000000e+00</td>\n",
       "      <td>33797240.0</td>\n",
       "      <td>124468.48837</td>\n",
       "      <td>66802.0</td>\n",
       "    </tr>\n",
       "    <tr>\n",
       "      <th>4</th>\n",
       "      <td>2016-11-30</td>\n",
       "      <td>EMEA_BPS_GBU Owned and Allocated</td>\n",
       "      <td>1.794637e+05</td>\n",
       "      <td>33797240.0</td>\n",
       "      <td>124468.48837</td>\n",
       "      <td>66802.0</td>\n",
       "    </tr>\n",
       "  </tbody>\n",
       "</table>\n",
       "</div>"
      ],
      "text/plain": [
       "          ds                           unique_id             y         WIB  \\\n",
       "0 2016-11-30  EMEA_BPS_CS HQ Owned and Allocated  6.936642e+05  33797240.0   \n",
       "1 2016-11-30  EMEA_BPS_Contact Center OH Expense  0.000000e+00  33797240.0   \n",
       "2 2016-11-30                   EMEA_BPS_Delivery  3.323405e+06  33797240.0   \n",
       "3 2016-11-30                EMEA_BPS_Delivery OH  0.000000e+00  33797240.0   \n",
       "4 2016-11-30    EMEA_BPS_GBU Owned and Allocated  1.794637e+05  33797240.0   \n",
       "\n",
       "   Total Number of Calls  Total Number of Repair Events  \n",
       "0           124468.48837                        66802.0  \n",
       "1           124468.48837                        66802.0  \n",
       "2           124468.48837                        66802.0  \n",
       "3           124468.48837                        66802.0  \n",
       "4           124468.48837                        66802.0  "
      ]
     },
     "execution_count": 52,
     "metadata": {},
     "output_type": "execute_result"
    }
   ],
   "source": [
    "train = Y_train.merge(X_df, how = 'left', on = ['unique_id', 'ds'])\n",
    "train.head()"
   ]
  },
  {
   "cell_type": "code",
   "execution_count": 53,
   "metadata": {},
   "outputs": [
    {
     "data": {
      "text/html": [
       "<div>\n",
       "<style scoped>\n",
       "    .dataframe tbody tr th:only-of-type {\n",
       "        vertical-align: middle;\n",
       "    }\n",
       "\n",
       "    .dataframe tbody tr th {\n",
       "        vertical-align: top;\n",
       "    }\n",
       "\n",
       "    .dataframe thead th {\n",
       "        text-align: right;\n",
       "    }\n",
       "</style>\n",
       "<table border=\"1\" class=\"dataframe\">\n",
       "  <thead>\n",
       "    <tr style=\"text-align: right;\">\n",
       "      <th></th>\n",
       "      <th>ds</th>\n",
       "      <th>unique_id</th>\n",
       "      <th>y</th>\n",
       "      <th>WIB</th>\n",
       "      <th>Total Number of Calls</th>\n",
       "      <th>Total Number of Repair Events</th>\n",
       "    </tr>\n",
       "  </thead>\n",
       "  <tbody>\n",
       "    <tr>\n",
       "      <th>4555</th>\n",
       "      <td>2023-02-28</td>\n",
       "      <td>EMEA_OPS Supplies_Level 2 Support</td>\n",
       "      <td>0.00</td>\n",
       "      <td>11158695.0</td>\n",
       "      <td>2.0</td>\n",
       "      <td>2.0</td>\n",
       "    </tr>\n",
       "    <tr>\n",
       "      <th>4556</th>\n",
       "      <td>2023-02-28</td>\n",
       "      <td>EMEA_OPS Supplies_Non-Phone Expense</td>\n",
       "      <td>1072.97</td>\n",
       "      <td>11158695.0</td>\n",
       "      <td>2.0</td>\n",
       "      <td>2.0</td>\n",
       "    </tr>\n",
       "    <tr>\n",
       "      <th>4557</th>\n",
       "      <td>2023-02-28</td>\n",
       "      <td>EMEA_OPS Supplies_Phone Support Expense</td>\n",
       "      <td>572.16</td>\n",
       "      <td>11158695.0</td>\n",
       "      <td>2.0</td>\n",
       "      <td>2.0</td>\n",
       "    </tr>\n",
       "    <tr>\n",
       "      <th>4558</th>\n",
       "      <td>2023-02-28</td>\n",
       "      <td>EMEA_OPS Supplies_Supply Chain</td>\n",
       "      <td>1162.99</td>\n",
       "      <td>11158695.0</td>\n",
       "      <td>2.0</td>\n",
       "      <td>2.0</td>\n",
       "    </tr>\n",
       "    <tr>\n",
       "      <th>4559</th>\n",
       "      <td>2023-02-28</td>\n",
       "      <td>EMEA_OPS Supplies_Supply Chain OH</td>\n",
       "      <td>1707.72</td>\n",
       "      <td>11158695.0</td>\n",
       "      <td>2.0</td>\n",
       "      <td>2.0</td>\n",
       "    </tr>\n",
       "  </tbody>\n",
       "</table>\n",
       "</div>"
      ],
      "text/plain": [
       "             ds                                unique_id        y         WIB  \\\n",
       "4555 2023-02-28        EMEA_OPS Supplies_Level 2 Support     0.00  11158695.0   \n",
       "4556 2023-02-28      EMEA_OPS Supplies_Non-Phone Expense  1072.97  11158695.0   \n",
       "4557 2023-02-28  EMEA_OPS Supplies_Phone Support Expense   572.16  11158695.0   \n",
       "4558 2023-02-28           EMEA_OPS Supplies_Supply Chain  1162.99  11158695.0   \n",
       "4559 2023-02-28        EMEA_OPS Supplies_Supply Chain OH  1707.72  11158695.0   \n",
       "\n",
       "      Total Number of Calls  Total Number of Repair Events  \n",
       "4555                    2.0                            2.0  \n",
       "4556                    2.0                            2.0  \n",
       "4557                    2.0                            2.0  \n",
       "4558                    2.0                            2.0  \n",
       "4559                    2.0                            2.0  "
      ]
     },
     "execution_count": 53,
     "metadata": {},
     "output_type": "execute_result"
    }
   ],
   "source": [
    "train.tail()"
   ]
  },
  {
   "cell_type": "code",
   "execution_count": 54,
   "metadata": {},
   "outputs": [
    {
     "data": {
      "text/html": [
       "<div>\n",
       "<style scoped>\n",
       "    .dataframe tbody tr th:only-of-type {\n",
       "        vertical-align: middle;\n",
       "    }\n",
       "\n",
       "    .dataframe tbody tr th {\n",
       "        vertical-align: top;\n",
       "    }\n",
       "\n",
       "    .dataframe thead th {\n",
       "        text-align: right;\n",
       "    }\n",
       "</style>\n",
       "<table border=\"1\" class=\"dataframe\">\n",
       "  <thead>\n",
       "    <tr style=\"text-align: right;\">\n",
       "      <th></th>\n",
       "      <th>ds</th>\n",
       "      <th>unique_id</th>\n",
       "      <th>WIB</th>\n",
       "      <th>Total Number of Calls</th>\n",
       "      <th>Total Number of Repair Events</th>\n",
       "    </tr>\n",
       "  </thead>\n",
       "  <tbody>\n",
       "    <tr>\n",
       "      <th>4560</th>\n",
       "      <td>2023-03-31</td>\n",
       "      <td>EMEA_BPS_CS HQ Owned and Allocated</td>\n",
       "      <td>43396749.0</td>\n",
       "      <td>52452.0</td>\n",
       "      <td>53590.0</td>\n",
       "    </tr>\n",
       "    <tr>\n",
       "      <th>4561</th>\n",
       "      <td>2023-03-31</td>\n",
       "      <td>EMEA_BPS_Contact Center OH Expense</td>\n",
       "      <td>43396749.0</td>\n",
       "      <td>52452.0</td>\n",
       "      <td>53590.0</td>\n",
       "    </tr>\n",
       "    <tr>\n",
       "      <th>4562</th>\n",
       "      <td>2023-03-31</td>\n",
       "      <td>EMEA_BPS_Delivery</td>\n",
       "      <td>43396749.0</td>\n",
       "      <td>52452.0</td>\n",
       "      <td>53590.0</td>\n",
       "    </tr>\n",
       "    <tr>\n",
       "      <th>4563</th>\n",
       "      <td>2023-03-31</td>\n",
       "      <td>EMEA_BPS_Delivery OH</td>\n",
       "      <td>43396749.0</td>\n",
       "      <td>52452.0</td>\n",
       "      <td>53590.0</td>\n",
       "    </tr>\n",
       "    <tr>\n",
       "      <th>4564</th>\n",
       "      <td>2023-03-31</td>\n",
       "      <td>EMEA_BPS_GBU Owned and Allocated</td>\n",
       "      <td>43396749.0</td>\n",
       "      <td>52452.0</td>\n",
       "      <td>53590.0</td>\n",
       "    </tr>\n",
       "  </tbody>\n",
       "</table>\n",
       "</div>"
      ],
      "text/plain": [
       "             ds                           unique_id         WIB  \\\n",
       "4560 2023-03-31  EMEA_BPS_CS HQ Owned and Allocated  43396749.0   \n",
       "4561 2023-03-31  EMEA_BPS_Contact Center OH Expense  43396749.0   \n",
       "4562 2023-03-31                   EMEA_BPS_Delivery  43396749.0   \n",
       "4563 2023-03-31                EMEA_BPS_Delivery OH  43396749.0   \n",
       "4564 2023-03-31    EMEA_BPS_GBU Owned and Allocated  43396749.0   \n",
       "\n",
       "      Total Number of Calls  Total Number of Repair Events  \n",
       "4560                52452.0                        53590.0  \n",
       "4561                52452.0                        53590.0  \n",
       "4562                52452.0                        53590.0  \n",
       "4563                52452.0                        53590.0  \n",
       "4564                52452.0                        53590.0  "
      ]
     },
     "execution_count": 54,
     "metadata": {},
     "output_type": "execute_result"
    }
   ],
   "source": [
    "X_test.head()"
   ]
  },
  {
   "cell_type": "code",
   "execution_count": 100,
   "metadata": {},
   "outputs": [],
   "source": [
    "from statsforecast.models import AutoARIMA, AutoETS, AutoTheta, AutoCES, SimpleExponentialSmoothingOptimized, SeasonalExponentialSmoothingOptimized, SimpleExponentialSmoothing, WindowAverage"
   ]
  },
  {
   "cell_type": "code",
   "execution_count": 102,
   "metadata": {},
   "outputs": [],
   "source": [
    "season_length = 12\n",
    "models = [\n",
    "    AutoARIMA(season_length=season_length), # ARIMA model with automatic order selection and seasonal component\n",
    "    SimpleExponentialSmoothingOptimized(),\n",
    "    SeasonalExponentialSmoothingOptimized(season_length=season_length)\n",
    "    #AutoETS(season_length=season_length) # ETS model with automatic error, trend, and seasonal component\n",
    "    #AutoTheta(season_length=season_length) # Theta model with automatic seasonality detection\n",
    "]\n",
    "\n",
    "models = [\n",
    "    SimpleExponentialSmoothingOptimized(), # ARIMA model with automatic order selection and seasonal component\n",
    "    SimpleExponentialSmoothing(0.9),\n",
    "    WindowAverage(window_size=6)\n",
    "]\n",
    "\n",
    "sf = StatsForecast(\n",
    "    models=models,\n",
    "    freq='M',\n",
    "    n_jobs=-1\n",
    ")"
   ]
  },
  {
   "cell_type": "code",
   "execution_count": 103,
   "metadata": {},
   "outputs": [],
   "source": [
    "horizon = 3\n",
    "level = [95]\n",
    "\n",
    "fcst = sf.forecast(df=train, h=horizon, X_df=X_test)\n",
    "fcst = fcst.reset_index()"
   ]
  },
  {
   "cell_type": "code",
   "execution_count": 104,
   "metadata": {},
   "outputs": [
    {
     "data": {
      "application/vnd.plotly.v1+json": {
       "config": {
        "plotlyServerURL": "https://plot.ly"
       },
       "data": [
        {
         "legendgroup": "y",
         "line": {
          "color": "#1f77b4",
          "width": 1
         },
         "mode": "lines",
         "name": "y",
         "showlegend": true,
         "type": "scatter",
         "x": [
          "2023-03-31T00:00:00",
          "2023-04-30T00:00:00",
          "2023-05-31T00:00:00"
         ],
         "xaxis": "x",
         "y": [
          1534.77,
          1031.39,
          1465.5900000000001
         ],
         "yaxis": "y"
        },
        {
         "legendgroup": "y",
         "line": {
          "color": "#1f77b4",
          "width": 1
         },
         "mode": "lines",
         "name": "y",
         "showlegend": false,
         "type": "scatter",
         "x": [
          "2023-03-31T00:00:00",
          "2023-04-30T00:00:00",
          "2023-05-31T00:00:00"
         ],
         "xaxis": "x2",
         "y": [
          50709.57,
          60051.05,
          61985.33999999999
         ],
         "yaxis": "y2"
        },
        {
         "legendgroup": "y",
         "line": {
          "color": "#1f77b4",
          "width": 1
         },
         "mode": "lines",
         "name": "y",
         "showlegend": false,
         "type": "scatter",
         "x": [
          "2023-03-31T00:00:00",
          "2023-04-30T00:00:00",
          "2023-05-31T00:00:00"
         ],
         "xaxis": "x3",
         "y": [
          14865.85,
          16046.94,
          15610.109999999999
         ],
         "yaxis": "y3"
        },
        {
         "legendgroup": "y",
         "line": {
          "color": "#1f77b4",
          "width": 1
         },
         "mode": "lines",
         "name": "y",
         "showlegend": false,
         "type": "scatter",
         "x": [
          "2023-03-31T00:00:00",
          "2023-04-30T00:00:00",
          "2023-05-31T00:00:00"
         ],
         "xaxis": "x4",
         "y": [
          1649.79,
          2250.19,
          265.76
         ],
         "yaxis": "y4"
        },
        {
         "legendgroup": "y",
         "line": {
          "color": "#1f77b4",
          "width": 1
         },
         "mode": "lines",
         "name": "y",
         "showlegend": false,
         "type": "scatter",
         "x": [
          "2023-03-31T00:00:00",
          "2023-04-30T00:00:00",
          "2023-05-31T00:00:00"
         ],
         "xaxis": "x5",
         "y": [
          521740.51999999996,
          401989.82999999996,
          489898.57
         ],
         "yaxis": "y5"
        },
        {
         "legendgroup": "y",
         "line": {
          "color": "#1f77b4",
          "width": 1
         },
         "mode": "lines",
         "name": "y",
         "showlegend": false,
         "type": "scatter",
         "x": [
          "2023-03-31T00:00:00",
          "2023-04-30T00:00:00",
          "2023-05-31T00:00:00"
         ],
         "xaxis": "x6",
         "y": [
          6095175.450000001,
          6077443.77,
          6261805.700000002
         ],
         "yaxis": "y6"
        },
        {
         "legendgroup": "y",
         "line": {
          "color": "#1f77b4",
          "width": 1
         },
         "mode": "lines",
         "name": "y",
         "showlegend": false,
         "type": "scatter",
         "x": [
          "2023-03-31T00:00:00",
          "2023-04-30T00:00:00",
          "2023-05-31T00:00:00"
         ],
         "xaxis": "x7",
         "y": [
          161071.45,
          44245.85,
          83906.20999999999
         ],
         "yaxis": "y7"
        },
        {
         "legendgroup": "y",
         "line": {
          "color": "#1f77b4",
          "width": 1
         },
         "mode": "lines",
         "name": "y",
         "showlegend": false,
         "type": "scatter",
         "x": [
          "2023-03-31T00:00:00",
          "2023-04-30T00:00:00",
          "2023-05-31T00:00:00"
         ],
         "xaxis": "x8",
         "y": [
          283.7,
          768.36,
          857.72
         ],
         "yaxis": "y8"
        },
        {
         "legendgroup": "SESOpt",
         "line": {
          "color": "#393b79",
          "width": 1
         },
         "mode": "lines",
         "name": "SESOpt",
         "showlegend": true,
         "type": "scatter",
         "x": [
          "2023-03-31T00:00:00",
          "2023-04-30T00:00:00",
          "2023-05-31T00:00:00"
         ],
         "xaxis": "x",
         "y": [
          1808.270751953125,
          1808.270751953125,
          1808.270751953125
         ],
         "yaxis": "y"
        },
        {
         "legendgroup": "SES",
         "line": {
          "color": "#b5cf6b",
          "width": 1
         },
         "mode": "lines",
         "name": "SES",
         "showlegend": true,
         "type": "scatter",
         "x": [
          "2023-03-31T00:00:00",
          "2023-04-30T00:00:00",
          "2023-05-31T00:00:00"
         ],
         "xaxis": "x",
         "y": [
          1158.77392578125,
          1158.77392578125,
          1158.77392578125
         ],
         "yaxis": "y"
        },
        {
         "legendgroup": "WindowAverage",
         "line": {
          "color": "#ad494a",
          "width": 1
         },
         "mode": "lines",
         "name": "WindowAverage",
         "showlegend": true,
         "type": "scatter",
         "x": [
          "2023-03-31T00:00:00",
          "2023-04-30T00:00:00",
          "2023-05-31T00:00:00"
         ],
         "xaxis": "x",
         "y": [
          3906.1103515625,
          3906.1103515625,
          3906.1103515625
         ],
         "yaxis": "y"
        },
        {
         "legendgroup": "SESOpt",
         "line": {
          "color": "#393b79",
          "width": 1
         },
         "mode": "lines",
         "name": "SESOpt",
         "showlegend": false,
         "type": "scatter",
         "x": [
          "2023-03-31T00:00:00",
          "2023-04-30T00:00:00",
          "2023-05-31T00:00:00"
         ],
         "xaxis": "x2",
         "y": [
          65176.03125,
          65176.03125,
          65176.03125
         ],
         "yaxis": "y2"
        },
        {
         "legendgroup": "SES",
         "line": {
          "color": "#b5cf6b",
          "width": 1
         },
         "mode": "lines",
         "name": "SES",
         "showlegend": false,
         "type": "scatter",
         "x": [
          "2023-03-31T00:00:00",
          "2023-04-30T00:00:00",
          "2023-05-31T00:00:00"
         ],
         "xaxis": "x2",
         "y": [
          60521.39453125,
          60521.39453125,
          60521.39453125
         ],
         "yaxis": "y2"
        },
        {
         "legendgroup": "WindowAverage",
         "line": {
          "color": "#ad494a",
          "width": 1
         },
         "mode": "lines",
         "name": "WindowAverage",
         "showlegend": false,
         "type": "scatter",
         "x": [
          "2023-03-31T00:00:00",
          "2023-04-30T00:00:00",
          "2023-05-31T00:00:00"
         ],
         "xaxis": "x2",
         "y": [
          61707.68359375,
          61707.68359375,
          61707.68359375
         ],
         "yaxis": "y2"
        },
        {
         "legendgroup": "SESOpt",
         "line": {
          "color": "#393b79",
          "width": 1
         },
         "mode": "lines",
         "name": "SESOpt",
         "showlegend": false,
         "type": "scatter",
         "x": [
          "2023-03-31T00:00:00",
          "2023-04-30T00:00:00",
          "2023-05-31T00:00:00"
         ],
         "xaxis": "x3",
         "y": [
          19066.53125,
          19066.53125,
          19066.53125
         ],
         "yaxis": "y3"
        },
        {
         "legendgroup": "SES",
         "line": {
          "color": "#b5cf6b",
          "width": 1
         },
         "mode": "lines",
         "name": "SES",
         "showlegend": false,
         "type": "scatter",
         "x": [
          "2023-03-31T00:00:00",
          "2023-04-30T00:00:00",
          "2023-05-31T00:00:00"
         ],
         "xaxis": "x3",
         "y": [
          18788.2421875,
          18788.2421875,
          18788.2421875
         ],
         "yaxis": "y3"
        },
        {
         "legendgroup": "WindowAverage",
         "line": {
          "color": "#ad494a",
          "width": 1
         },
         "mode": "lines",
         "name": "WindowAverage",
         "showlegend": false,
         "type": "scatter",
         "x": [
          "2023-03-31T00:00:00",
          "2023-04-30T00:00:00",
          "2023-05-31T00:00:00"
         ],
         "xaxis": "x3",
         "y": [
          19471.2109375,
          19471.2109375,
          19471.2109375
         ],
         "yaxis": "y3"
        },
        {
         "legendgroup": "SESOpt",
         "line": {
          "color": "#393b79",
          "width": 1
         },
         "mode": "lines",
         "name": "SESOpt",
         "showlegend": false,
         "type": "scatter",
         "x": [
          "2023-03-31T00:00:00",
          "2023-04-30T00:00:00",
          "2023-05-31T00:00:00"
         ],
         "xaxis": "x4",
         "y": [
          2373.424560546875,
          2373.424560546875,
          2373.424560546875
         ],
         "yaxis": "y4"
        },
        {
         "legendgroup": "SES",
         "line": {
          "color": "#b5cf6b",
          "width": 1
         },
         "mode": "lines",
         "name": "SES",
         "showlegend": false,
         "type": "scatter",
         "x": [
          "2023-03-31T00:00:00",
          "2023-04-30T00:00:00",
          "2023-05-31T00:00:00"
         ],
         "xaxis": "x4",
         "y": [
          2052.2734375,
          2052.2734375,
          2052.2734375
         ],
         "yaxis": "y4"
        },
        {
         "legendgroup": "WindowAverage",
         "line": {
          "color": "#ad494a",
          "width": 1
         },
         "mode": "lines",
         "name": "WindowAverage",
         "showlegend": false,
         "type": "scatter",
         "x": [
          "2023-03-31T00:00:00",
          "2023-04-30T00:00:00",
          "2023-05-31T00:00:00"
         ],
         "xaxis": "x4",
         "y": [
          2967.599853515625,
          2967.599853515625,
          2967.599853515625
         ],
         "yaxis": "y4"
        },
        {
         "legendgroup": "SESOpt",
         "line": {
          "color": "#393b79",
          "width": 1
         },
         "mode": "lines",
         "name": "SESOpt",
         "showlegend": false,
         "type": "scatter",
         "x": [
          "2023-03-31T00:00:00",
          "2023-04-30T00:00:00",
          "2023-05-31T00:00:00"
         ],
         "xaxis": "x5",
         "y": [
          519995.15625,
          519995.15625,
          519995.15625
         ],
         "yaxis": "y5"
        },
        {
         "legendgroup": "SES",
         "line": {
          "color": "#b5cf6b",
          "width": 1
         },
         "mode": "lines",
         "name": "SES",
         "showlegend": false,
         "type": "scatter",
         "x": [
          "2023-03-31T00:00:00",
          "2023-04-30T00:00:00",
          "2023-05-31T00:00:00"
         ],
         "xaxis": "x5",
         "y": [
          447147.5625,
          447147.5625,
          447147.5625
         ],
         "yaxis": "y5"
        },
        {
         "legendgroup": "WindowAverage",
         "line": {
          "color": "#ad494a",
          "width": 1
         },
         "mode": "lines",
         "name": "WindowAverage",
         "showlegend": false,
         "type": "scatter",
         "x": [
          "2023-03-31T00:00:00",
          "2023-04-30T00:00:00",
          "2023-05-31T00:00:00"
         ],
         "xaxis": "x5",
         "y": [
          475593.625,
          475593.625,
          475593.625
         ],
         "yaxis": "y5"
        },
        {
         "legendgroup": "SESOpt",
         "line": {
          "color": "#393b79",
          "width": 1
         },
         "mode": "lines",
         "name": "SESOpt",
         "showlegend": false,
         "type": "scatter",
         "x": [
          "2023-03-31T00:00:00",
          "2023-04-30T00:00:00",
          "2023-05-31T00:00:00"
         ],
         "xaxis": "x6",
         "y": [
          6371757,
          6371757,
          6371757
         ],
         "yaxis": "y6"
        },
        {
         "legendgroup": "SES",
         "line": {
          "color": "#b5cf6b",
          "width": 1
         },
         "mode": "lines",
         "name": "SES",
         "showlegend": false,
         "type": "scatter",
         "x": [
          "2023-03-31T00:00:00",
          "2023-04-30T00:00:00",
          "2023-05-31T00:00:00"
         ],
         "xaxis": "x6",
         "y": [
          6921319,
          6921319,
          6921319
         ],
         "yaxis": "y6"
        },
        {
         "legendgroup": "WindowAverage",
         "line": {
          "color": "#ad494a",
          "width": 1
         },
         "mode": "lines",
         "name": "WindowAverage",
         "showlegend": false,
         "type": "scatter",
         "x": [
          "2023-03-31T00:00:00",
          "2023-04-30T00:00:00",
          "2023-05-31T00:00:00"
         ],
         "xaxis": "x6",
         "y": [
          6329088,
          6329088,
          6329088
         ],
         "yaxis": "y6"
        },
        {
         "legendgroup": "SESOpt",
         "line": {
          "color": "#393b79",
          "width": 1
         },
         "mode": "lines",
         "name": "SESOpt",
         "showlegend": false,
         "type": "scatter",
         "x": [
          "2023-03-31T00:00:00",
          "2023-04-30T00:00:00",
          "2023-05-31T00:00:00"
         ],
         "xaxis": "x7",
         "y": [
          81812.6796875,
          81812.6796875,
          81812.6796875
         ],
         "yaxis": "y7"
        },
        {
         "legendgroup": "SES",
         "line": {
          "color": "#b5cf6b",
          "width": 1
         },
         "mode": "lines",
         "name": "SES",
         "showlegend": false,
         "type": "scatter",
         "x": [
          "2023-03-31T00:00:00",
          "2023-04-30T00:00:00",
          "2023-05-31T00:00:00"
         ],
         "xaxis": "x7",
         "y": [
          84208.9453125,
          84208.9453125,
          84208.9453125
         ],
         "yaxis": "y7"
        },
        {
         "legendgroup": "WindowAverage",
         "line": {
          "color": "#ad494a",
          "width": 1
         },
         "mode": "lines",
         "name": "WindowAverage",
         "showlegend": false,
         "type": "scatter",
         "x": [
          "2023-03-31T00:00:00",
          "2023-04-30T00:00:00",
          "2023-05-31T00:00:00"
         ],
         "xaxis": "x7",
         "y": [
          70885.5078125,
          70885.5078125,
          70885.5078125
         ],
         "yaxis": "y7"
        },
        {
         "legendgroup": "SESOpt",
         "line": {
          "color": "#393b79",
          "width": 1
         },
         "mode": "lines",
         "name": "SESOpt",
         "showlegend": false,
         "type": "scatter",
         "x": [
          "2023-03-31T00:00:00",
          "2023-04-30T00:00:00",
          "2023-05-31T00:00:00"
         ],
         "xaxis": "x8",
         "y": [
          641.1650390625,
          641.1650390625,
          641.1650390625
         ],
         "yaxis": "y8"
        },
        {
         "legendgroup": "SES",
         "line": {
          "color": "#b5cf6b",
          "width": 1
         },
         "mode": "lines",
         "name": "SES",
         "showlegend": false,
         "type": "scatter",
         "x": [
          "2023-03-31T00:00:00",
          "2023-04-30T00:00:00",
          "2023-05-31T00:00:00"
         ],
         "xaxis": "x8",
         "y": [
          592.7892456054688,
          592.7892456054688,
          592.7892456054688
         ],
         "yaxis": "y8"
        },
        {
         "legendgroup": "WindowAverage",
         "line": {
          "color": "#ad494a",
          "width": 1
         },
         "mode": "lines",
         "name": "WindowAverage",
         "showlegend": false,
         "type": "scatter",
         "x": [
          "2023-03-31T00:00:00",
          "2023-04-30T00:00:00",
          "2023-05-31T00:00:00"
         ],
         "xaxis": "x8",
         "y": [
          641.5449829101562,
          641.5449829101562,
          641.5449829101562
         ],
         "yaxis": "y8"
        }
       ],
       "layout": {
        "annotations": [
         {
          "font": {
           "size": 10
          },
          "showarrow": false,
          "text": "EMEA_OPS Supplies_Supply Chain",
          "x": 0.23249999999999998,
          "xanchor": "center",
          "xref": "paper",
          "y": 1,
          "yanchor": "bottom",
          "yref": "paper"
         },
         {
          "font": {
           "size": 10
          },
          "showarrow": false,
          "text": "EMEA_OPS_Level 2 Support",
          "x": 0.7674999999999998,
          "xanchor": "center",
          "xref": "paper",
          "y": 1,
          "yanchor": "bottom",
          "yref": "paper"
         },
         {
          "font": {
           "size": 10
          },
          "showarrow": false,
          "text": "EMEA_CPS_Level 2 Support",
          "x": 0.23249999999999998,
          "xanchor": "center",
          "xref": "paper",
          "y": 0.7250000000000001,
          "yanchor": "bottom",
          "yref": "paper"
         },
         {
          "font": {
           "size": 10
          },
          "showarrow": false,
          "text": "EMEA_HPS Supplies_CS HQ Owned and Allocated",
          "x": 0.7674999999999998,
          "xanchor": "center",
          "xref": "paper",
          "y": 0.7250000000000001,
          "yanchor": "bottom",
          "yref": "paper"
         },
         {
          "font": {
           "size": 10
          },
          "showarrow": false,
          "text": "EMEA_CPS_Non-Phone Expense",
          "x": 0.23249999999999998,
          "xanchor": "center",
          "xref": "paper",
          "y": 0.45,
          "yanchor": "bottom",
          "yref": "paper"
         },
         {
          "font": {
           "size": 10
          },
          "showarrow": false,
          "text": "EMEA_BPS_Supply Chain",
          "x": 0.7674999999999998,
          "xanchor": "center",
          "xref": "paper",
          "y": 0.45,
          "yanchor": "bottom",
          "yref": "paper"
         },
         {
          "font": {
           "size": 10
          },
          "showarrow": false,
          "text": "EMEA_OPS_Contact Center OH Expense",
          "x": 0.23249999999999998,
          "xanchor": "center",
          "xref": "paper",
          "y": 0.175,
          "yanchor": "bottom",
          "yref": "paper"
         },
         {
          "font": {
           "size": 10
          },
          "showarrow": false,
          "text": "EMEA_OPS Supplies_Phone Support Expense",
          "x": 0.7674999999999998,
          "xanchor": "center",
          "xref": "paper",
          "y": 0.175,
          "yanchor": "bottom",
          "yref": "paper"
         },
         {
          "font": {
           "size": 10
          },
          "showarrow": false,
          "text": "Datestamp [ds]",
          "x": 0.5,
          "xanchor": "center",
          "xref": "paper",
          "y": 0,
          "yanchor": "top",
          "yref": "paper",
          "yshift": -30
         },
         {
          "font": {
           "size": 10
          },
          "showarrow": false,
          "text": "Target [y]",
          "textangle": -90,
          "x": 0,
          "xanchor": "right",
          "xref": "paper",
          "xshift": -40,
          "y": 0.5,
          "yanchor": "middle",
          "yref": "paper"
         }
        ],
        "autosize": true,
        "font": {
         "size": 10
        },
        "height": 600,
        "margin": {
         "b": 50,
         "l": 60,
         "r": 10,
         "t": 20
        },
        "template": {
         "data": {
          "bar": [
           {
            "error_x": {
             "color": "#2a3f5f"
            },
            "error_y": {
             "color": "#2a3f5f"
            },
            "marker": {
             "line": {
              "color": "white",
              "width": 0.5
             },
             "pattern": {
              "fillmode": "overlay",
              "size": 10,
              "solidity": 0.2
             }
            },
            "type": "bar"
           }
          ],
          "barpolar": [
           {
            "marker": {
             "line": {
              "color": "white",
              "width": 0.5
             },
             "pattern": {
              "fillmode": "overlay",
              "size": 10,
              "solidity": 0.2
             }
            },
            "type": "barpolar"
           }
          ],
          "carpet": [
           {
            "aaxis": {
             "endlinecolor": "#2a3f5f",
             "gridcolor": "#C8D4E3",
             "linecolor": "#C8D4E3",
             "minorgridcolor": "#C8D4E3",
             "startlinecolor": "#2a3f5f"
            },
            "baxis": {
             "endlinecolor": "#2a3f5f",
             "gridcolor": "#C8D4E3",
             "linecolor": "#C8D4E3",
             "minorgridcolor": "#C8D4E3",
             "startlinecolor": "#2a3f5f"
            },
            "type": "carpet"
           }
          ],
          "choropleth": [
           {
            "colorbar": {
             "outlinewidth": 0,
             "ticks": ""
            },
            "type": "choropleth"
           }
          ],
          "contour": [
           {
            "colorbar": {
             "outlinewidth": 0,
             "ticks": ""
            },
            "colorscale": [
             [
              0,
              "#0d0887"
             ],
             [
              0.1111111111111111,
              "#46039f"
             ],
             [
              0.2222222222222222,
              "#7201a8"
             ],
             [
              0.3333333333333333,
              "#9c179e"
             ],
             [
              0.4444444444444444,
              "#bd3786"
             ],
             [
              0.5555555555555556,
              "#d8576b"
             ],
             [
              0.6666666666666666,
              "#ed7953"
             ],
             [
              0.7777777777777778,
              "#fb9f3a"
             ],
             [
              0.8888888888888888,
              "#fdca26"
             ],
             [
              1,
              "#f0f921"
             ]
            ],
            "type": "contour"
           }
          ],
          "contourcarpet": [
           {
            "colorbar": {
             "outlinewidth": 0,
             "ticks": ""
            },
            "type": "contourcarpet"
           }
          ],
          "heatmap": [
           {
            "colorbar": {
             "outlinewidth": 0,
             "ticks": ""
            },
            "colorscale": [
             [
              0,
              "#0d0887"
             ],
             [
              0.1111111111111111,
              "#46039f"
             ],
             [
              0.2222222222222222,
              "#7201a8"
             ],
             [
              0.3333333333333333,
              "#9c179e"
             ],
             [
              0.4444444444444444,
              "#bd3786"
             ],
             [
              0.5555555555555556,
              "#d8576b"
             ],
             [
              0.6666666666666666,
              "#ed7953"
             ],
             [
              0.7777777777777778,
              "#fb9f3a"
             ],
             [
              0.8888888888888888,
              "#fdca26"
             ],
             [
              1,
              "#f0f921"
             ]
            ],
            "type": "heatmap"
           }
          ],
          "heatmapgl": [
           {
            "colorbar": {
             "outlinewidth": 0,
             "ticks": ""
            },
            "colorscale": [
             [
              0,
              "#0d0887"
             ],
             [
              0.1111111111111111,
              "#46039f"
             ],
             [
              0.2222222222222222,
              "#7201a8"
             ],
             [
              0.3333333333333333,
              "#9c179e"
             ],
             [
              0.4444444444444444,
              "#bd3786"
             ],
             [
              0.5555555555555556,
              "#d8576b"
             ],
             [
              0.6666666666666666,
              "#ed7953"
             ],
             [
              0.7777777777777778,
              "#fb9f3a"
             ],
             [
              0.8888888888888888,
              "#fdca26"
             ],
             [
              1,
              "#f0f921"
             ]
            ],
            "type": "heatmapgl"
           }
          ],
          "histogram": [
           {
            "marker": {
             "pattern": {
              "fillmode": "overlay",
              "size": 10,
              "solidity": 0.2
             }
            },
            "type": "histogram"
           }
          ],
          "histogram2d": [
           {
            "colorbar": {
             "outlinewidth": 0,
             "ticks": ""
            },
            "colorscale": [
             [
              0,
              "#0d0887"
             ],
             [
              0.1111111111111111,
              "#46039f"
             ],
             [
              0.2222222222222222,
              "#7201a8"
             ],
             [
              0.3333333333333333,
              "#9c179e"
             ],
             [
              0.4444444444444444,
              "#bd3786"
             ],
             [
              0.5555555555555556,
              "#d8576b"
             ],
             [
              0.6666666666666666,
              "#ed7953"
             ],
             [
              0.7777777777777778,
              "#fb9f3a"
             ],
             [
              0.8888888888888888,
              "#fdca26"
             ],
             [
              1,
              "#f0f921"
             ]
            ],
            "type": "histogram2d"
           }
          ],
          "histogram2dcontour": [
           {
            "colorbar": {
             "outlinewidth": 0,
             "ticks": ""
            },
            "colorscale": [
             [
              0,
              "#0d0887"
             ],
             [
              0.1111111111111111,
              "#46039f"
             ],
             [
              0.2222222222222222,
              "#7201a8"
             ],
             [
              0.3333333333333333,
              "#9c179e"
             ],
             [
              0.4444444444444444,
              "#bd3786"
             ],
             [
              0.5555555555555556,
              "#d8576b"
             ],
             [
              0.6666666666666666,
              "#ed7953"
             ],
             [
              0.7777777777777778,
              "#fb9f3a"
             ],
             [
              0.8888888888888888,
              "#fdca26"
             ],
             [
              1,
              "#f0f921"
             ]
            ],
            "type": "histogram2dcontour"
           }
          ],
          "mesh3d": [
           {
            "colorbar": {
             "outlinewidth": 0,
             "ticks": ""
            },
            "type": "mesh3d"
           }
          ],
          "parcoords": [
           {
            "line": {
             "colorbar": {
              "outlinewidth": 0,
              "ticks": ""
             }
            },
            "type": "parcoords"
           }
          ],
          "pie": [
           {
            "automargin": true,
            "type": "pie"
           }
          ],
          "scatter": [
           {
            "fillpattern": {
             "fillmode": "overlay",
             "size": 10,
             "solidity": 0.2
            },
            "type": "scatter"
           }
          ],
          "scatter3d": [
           {
            "line": {
             "colorbar": {
              "outlinewidth": 0,
              "ticks": ""
             }
            },
            "marker": {
             "colorbar": {
              "outlinewidth": 0,
              "ticks": ""
             }
            },
            "type": "scatter3d"
           }
          ],
          "scattercarpet": [
           {
            "marker": {
             "colorbar": {
              "outlinewidth": 0,
              "ticks": ""
             }
            },
            "type": "scattercarpet"
           }
          ],
          "scattergeo": [
           {
            "marker": {
             "colorbar": {
              "outlinewidth": 0,
              "ticks": ""
             }
            },
            "type": "scattergeo"
           }
          ],
          "scattergl": [
           {
            "marker": {
             "colorbar": {
              "outlinewidth": 0,
              "ticks": ""
             }
            },
            "type": "scattergl"
           }
          ],
          "scattermapbox": [
           {
            "marker": {
             "colorbar": {
              "outlinewidth": 0,
              "ticks": ""
             }
            },
            "type": "scattermapbox"
           }
          ],
          "scatterpolar": [
           {
            "marker": {
             "colorbar": {
              "outlinewidth": 0,
              "ticks": ""
             }
            },
            "type": "scatterpolar"
           }
          ],
          "scatterpolargl": [
           {
            "marker": {
             "colorbar": {
              "outlinewidth": 0,
              "ticks": ""
             }
            },
            "type": "scatterpolargl"
           }
          ],
          "scatterternary": [
           {
            "marker": {
             "colorbar": {
              "outlinewidth": 0,
              "ticks": ""
             }
            },
            "type": "scatterternary"
           }
          ],
          "surface": [
           {
            "colorbar": {
             "outlinewidth": 0,
             "ticks": ""
            },
            "colorscale": [
             [
              0,
              "#0d0887"
             ],
             [
              0.1111111111111111,
              "#46039f"
             ],
             [
              0.2222222222222222,
              "#7201a8"
             ],
             [
              0.3333333333333333,
              "#9c179e"
             ],
             [
              0.4444444444444444,
              "#bd3786"
             ],
             [
              0.5555555555555556,
              "#d8576b"
             ],
             [
              0.6666666666666666,
              "#ed7953"
             ],
             [
              0.7777777777777778,
              "#fb9f3a"
             ],
             [
              0.8888888888888888,
              "#fdca26"
             ],
             [
              1,
              "#f0f921"
             ]
            ],
            "type": "surface"
           }
          ],
          "table": [
           {
            "cells": {
             "fill": {
              "color": "#EBF0F8"
             },
             "line": {
              "color": "white"
             }
            },
            "header": {
             "fill": {
              "color": "#C8D4E3"
             },
             "line": {
              "color": "white"
             }
            },
            "type": "table"
           }
          ]
         },
         "layout": {
          "annotationdefaults": {
           "arrowcolor": "#2a3f5f",
           "arrowhead": 0,
           "arrowwidth": 1
          },
          "autotypenumbers": "strict",
          "coloraxis": {
           "colorbar": {
            "outlinewidth": 0,
            "ticks": ""
           }
          },
          "colorscale": {
           "diverging": [
            [
             0,
             "#8e0152"
            ],
            [
             0.1,
             "#c51b7d"
            ],
            [
             0.2,
             "#de77ae"
            ],
            [
             0.3,
             "#f1b6da"
            ],
            [
             0.4,
             "#fde0ef"
            ],
            [
             0.5,
             "#f7f7f7"
            ],
            [
             0.6,
             "#e6f5d0"
            ],
            [
             0.7,
             "#b8e186"
            ],
            [
             0.8,
             "#7fbc41"
            ],
            [
             0.9,
             "#4d9221"
            ],
            [
             1,
             "#276419"
            ]
           ],
           "sequential": [
            [
             0,
             "#0d0887"
            ],
            [
             0.1111111111111111,
             "#46039f"
            ],
            [
             0.2222222222222222,
             "#7201a8"
            ],
            [
             0.3333333333333333,
             "#9c179e"
            ],
            [
             0.4444444444444444,
             "#bd3786"
            ],
            [
             0.5555555555555556,
             "#d8576b"
            ],
            [
             0.6666666666666666,
             "#ed7953"
            ],
            [
             0.7777777777777778,
             "#fb9f3a"
            ],
            [
             0.8888888888888888,
             "#fdca26"
            ],
            [
             1,
             "#f0f921"
            ]
           ],
           "sequentialminus": [
            [
             0,
             "#0d0887"
            ],
            [
             0.1111111111111111,
             "#46039f"
            ],
            [
             0.2222222222222222,
             "#7201a8"
            ],
            [
             0.3333333333333333,
             "#9c179e"
            ],
            [
             0.4444444444444444,
             "#bd3786"
            ],
            [
             0.5555555555555556,
             "#d8576b"
            ],
            [
             0.6666666666666666,
             "#ed7953"
            ],
            [
             0.7777777777777778,
             "#fb9f3a"
            ],
            [
             0.8888888888888888,
             "#fdca26"
            ],
            [
             1,
             "#f0f921"
            ]
           ]
          },
          "colorway": [
           "#636efa",
           "#EF553B",
           "#00cc96",
           "#ab63fa",
           "#FFA15A",
           "#19d3f3",
           "#FF6692",
           "#B6E880",
           "#FF97FF",
           "#FECB52"
          ],
          "font": {
           "color": "#2a3f5f"
          },
          "geo": {
           "bgcolor": "white",
           "lakecolor": "white",
           "landcolor": "white",
           "showlakes": true,
           "showland": true,
           "subunitcolor": "#C8D4E3"
          },
          "hoverlabel": {
           "align": "left"
          },
          "hovermode": "closest",
          "mapbox": {
           "style": "light"
          },
          "paper_bgcolor": "white",
          "plot_bgcolor": "white",
          "polar": {
           "angularaxis": {
            "gridcolor": "#EBF0F8",
            "linecolor": "#EBF0F8",
            "ticks": ""
           },
           "bgcolor": "white",
           "radialaxis": {
            "gridcolor": "#EBF0F8",
            "linecolor": "#EBF0F8",
            "ticks": ""
           }
          },
          "scene": {
           "xaxis": {
            "backgroundcolor": "white",
            "gridcolor": "#DFE8F3",
            "gridwidth": 2,
            "linecolor": "#EBF0F8",
            "showbackground": true,
            "ticks": "",
            "zerolinecolor": "#EBF0F8"
           },
           "yaxis": {
            "backgroundcolor": "white",
            "gridcolor": "#DFE8F3",
            "gridwidth": 2,
            "linecolor": "#EBF0F8",
            "showbackground": true,
            "ticks": "",
            "zerolinecolor": "#EBF0F8"
           },
           "zaxis": {
            "backgroundcolor": "white",
            "gridcolor": "#DFE8F3",
            "gridwidth": 2,
            "linecolor": "#EBF0F8",
            "showbackground": true,
            "ticks": "",
            "zerolinecolor": "#EBF0F8"
           }
          },
          "shapedefaults": {
           "line": {
            "color": "#2a3f5f"
           }
          },
          "ternary": {
           "aaxis": {
            "gridcolor": "#DFE8F3",
            "linecolor": "#A2B1C6",
            "ticks": ""
           },
           "baxis": {
            "gridcolor": "#DFE8F3",
            "linecolor": "#A2B1C6",
            "ticks": ""
           },
           "bgcolor": "white",
           "caxis": {
            "gridcolor": "#DFE8F3",
            "linecolor": "#A2B1C6",
            "ticks": ""
           }
          },
          "title": {
           "x": 0.05
          },
          "xaxis": {
           "automargin": true,
           "gridcolor": "#EBF0F8",
           "linecolor": "#EBF0F8",
           "ticks": "",
           "title": {
            "standoff": 15
           },
           "zerolinecolor": "#EBF0F8",
           "zerolinewidth": 2
          },
          "yaxis": {
           "automargin": true,
           "gridcolor": "#EBF0F8",
           "linecolor": "#EBF0F8",
           "ticks": "",
           "title": {
            "standoff": 15
           },
           "zerolinecolor": "#EBF0F8",
           "zerolinewidth": 2
          }
         }
        },
        "xaxis": {
         "anchor": "y",
         "domain": [
          0,
          0.46499999999999997
         ],
         "showticklabels": true,
         "visible": true
        },
        "xaxis2": {
         "anchor": "y2",
         "domain": [
          0.5349999999999999,
          0.9999999999999999
         ],
         "showticklabels": true,
         "visible": true
        },
        "xaxis3": {
         "anchor": "y3",
         "domain": [
          0,
          0.46499999999999997
         ],
         "showticklabels": true,
         "visible": true
        },
        "xaxis4": {
         "anchor": "y4",
         "domain": [
          0.5349999999999999,
          0.9999999999999999
         ],
         "showticklabels": true,
         "visible": true
        },
        "xaxis5": {
         "anchor": "y5",
         "domain": [
          0,
          0.46499999999999997
         ],
         "showticklabels": true,
         "visible": true
        },
        "xaxis6": {
         "anchor": "y6",
         "domain": [
          0.5349999999999999,
          0.9999999999999999
         ],
         "showticklabels": true,
         "visible": true
        },
        "xaxis7": {
         "anchor": "y7",
         "domain": [
          0,
          0.46499999999999997
         ],
         "showticklabels": true,
         "visible": true
        },
        "xaxis8": {
         "anchor": "y8",
         "domain": [
          0.5349999999999999,
          0.9999999999999999
         ],
         "showticklabels": true,
         "visible": true
        },
        "yaxis": {
         "anchor": "x",
         "domain": [
          0.825,
          1
         ]
        },
        "yaxis2": {
         "anchor": "x2",
         "domain": [
          0.825,
          1
         ]
        },
        "yaxis3": {
         "anchor": "x3",
         "domain": [
          0.55,
          0.7250000000000001
         ]
        },
        "yaxis4": {
         "anchor": "x4",
         "domain": [
          0.55,
          0.7250000000000001
         ]
        },
        "yaxis5": {
         "anchor": "x5",
         "domain": [
          0.275,
          0.45
         ]
        },
        "yaxis6": {
         "anchor": "x6",
         "domain": [
          0.275,
          0.45
         ]
        },
        "yaxis7": {
         "anchor": "x7",
         "domain": [
          0,
          0.175
         ]
        },
        "yaxis8": {
         "anchor": "x8",
         "domain": [
          0,
          0.175
         ]
        }
       }
      }
     },
     "metadata": {},
     "output_type": "display_data"
    }
   ],
   "source": [
    "StatsForecast.plot(Y_df, fcst, max_insample_length=3)"
   ]
  },
  {
   "cell_type": "code",
   "execution_count": null,
   "metadata": {},
   "outputs": [],
   "source": []
  },
  {
   "cell_type": "code",
   "execution_count": 105,
   "metadata": {},
   "outputs": [
    {
     "ename": "KeyError",
     "evalue": "'AutoARIMA'",
     "output_type": "error",
     "traceback": [
      "\u001b[1;31m---------------------------------------------------------------------------\u001b[0m",
      "\u001b[1;31mKeyError\u001b[0m                                  Traceback (most recent call last)",
      "File \u001b[1;32mc:\\Users\\nuno\\Miniconda3\\envs\\ml\\lib\\site-packages\\pandas\\core\\indexes\\base.py:3629\u001b[0m, in \u001b[0;36mIndex.get_loc\u001b[1;34m(self, key, method, tolerance)\u001b[0m\n\u001b[0;32m   3628\u001b[0m \u001b[39mtry\u001b[39;00m:\n\u001b[1;32m-> 3629\u001b[0m     \u001b[39mreturn\u001b[39;00m \u001b[39mself\u001b[39;49m\u001b[39m.\u001b[39;49m_engine\u001b[39m.\u001b[39;49mget_loc(casted_key)\n\u001b[0;32m   3630\u001b[0m \u001b[39mexcept\u001b[39;00m \u001b[39mKeyError\u001b[39;00m \u001b[39mas\u001b[39;00m err:\n",
      "File \u001b[1;32mc:\\Users\\nuno\\Miniconda3\\envs\\ml\\lib\\site-packages\\pandas\\_libs\\index.pyx:136\u001b[0m, in \u001b[0;36mpandas._libs.index.IndexEngine.get_loc\u001b[1;34m()\u001b[0m\n",
      "File \u001b[1;32mc:\\Users\\nuno\\Miniconda3\\envs\\ml\\lib\\site-packages\\pandas\\_libs\\index.pyx:163\u001b[0m, in \u001b[0;36mpandas._libs.index.IndexEngine.get_loc\u001b[1;34m()\u001b[0m\n",
      "File \u001b[1;32mpandas\\_libs\\hashtable_class_helper.pxi:5198\u001b[0m, in \u001b[0;36mpandas._libs.hashtable.PyObjectHashTable.get_item\u001b[1;34m()\u001b[0m\n",
      "File \u001b[1;32mpandas\\_libs\\hashtable_class_helper.pxi:5206\u001b[0m, in \u001b[0;36mpandas._libs.hashtable.PyObjectHashTable.get_item\u001b[1;34m()\u001b[0m\n",
      "\u001b[1;31mKeyError\u001b[0m: 'AutoARIMA'",
      "\nThe above exception was the direct cause of the following exception:\n",
      "\u001b[1;31mKeyError\u001b[0m                                  Traceback (most recent call last)",
      "\u001b[1;32mc:\\Users\\nuno\\Desktop\\daniel-nuno\\warranty-cost\\nnet_rndf\\all_series_ams.ipynb Cell 30\u001b[0m in \u001b[0;36m<cell line: 2>\u001b[1;34m()\u001b[0m\n\u001b[0;32m      <a href='vscode-notebook-cell:/c%3A/Users/nuno/Desktop/daniel-nuno/warranty-cost/nnet_rndf/all_series_ams.ipynb#X42sZmlsZQ%3D%3D?line=0'>1</a>\u001b[0m res \u001b[39m=\u001b[39m Y_test\u001b[39m.\u001b[39mmerge(fcst, how\u001b[39m=\u001b[39m\u001b[39m'\u001b[39m\u001b[39mleft\u001b[39m\u001b[39m'\u001b[39m, on\u001b[39m=\u001b[39m[\u001b[39m'\u001b[39m\u001b[39munique_id\u001b[39m\u001b[39m'\u001b[39m, \u001b[39m'\u001b[39m\u001b[39mds\u001b[39m\u001b[39m'\u001b[39m])\n\u001b[1;32m----> <a href='vscode-notebook-cell:/c%3A/Users/nuno/Desktop/daniel-nuno/warranty-cost/nnet_rndf/all_series_ams.ipynb#X42sZmlsZQ%3D%3D?line=1'>2</a>\u001b[0m mae_arima \u001b[39m=\u001b[39m \u001b[39mabs\u001b[39m(res[\u001b[39m'\u001b[39m\u001b[39my\u001b[39m\u001b[39m'\u001b[39m]\u001b[39m-\u001b[39mres[\u001b[39m'\u001b[39;49m\u001b[39mAutoARIMA\u001b[39;49m\u001b[39m'\u001b[39;49m])\u001b[39m.\u001b[39mmean()\n\u001b[0;32m      <a href='vscode-notebook-cell:/c%3A/Users/nuno/Desktop/daniel-nuno/warranty-cost/nnet_rndf/all_series_ams.ipynb#X42sZmlsZQ%3D%3D?line=2'>3</a>\u001b[0m \u001b[39mprint\u001b[39m(\u001b[39m'\u001b[39m\u001b[39mThe MAE with exogenous regressors is \u001b[39m\u001b[39m'\u001b[39m\u001b[39m+\u001b[39m\u001b[39mstr\u001b[39m(\u001b[39mround\u001b[39m(mae_arima,\u001b[39m2\u001b[39m)))\n",
      "File \u001b[1;32mc:\\Users\\nuno\\Miniconda3\\envs\\ml\\lib\\site-packages\\pandas\\core\\frame.py:3505\u001b[0m, in \u001b[0;36mDataFrame.__getitem__\u001b[1;34m(self, key)\u001b[0m\n\u001b[0;32m   3503\u001b[0m \u001b[39mif\u001b[39;00m \u001b[39mself\u001b[39m\u001b[39m.\u001b[39mcolumns\u001b[39m.\u001b[39mnlevels \u001b[39m>\u001b[39m \u001b[39m1\u001b[39m:\n\u001b[0;32m   3504\u001b[0m     \u001b[39mreturn\u001b[39;00m \u001b[39mself\u001b[39m\u001b[39m.\u001b[39m_getitem_multilevel(key)\n\u001b[1;32m-> 3505\u001b[0m indexer \u001b[39m=\u001b[39m \u001b[39mself\u001b[39;49m\u001b[39m.\u001b[39;49mcolumns\u001b[39m.\u001b[39;49mget_loc(key)\n\u001b[0;32m   3506\u001b[0m \u001b[39mif\u001b[39;00m is_integer(indexer):\n\u001b[0;32m   3507\u001b[0m     indexer \u001b[39m=\u001b[39m [indexer]\n",
      "File \u001b[1;32mc:\\Users\\nuno\\Miniconda3\\envs\\ml\\lib\\site-packages\\pandas\\core\\indexes\\base.py:3631\u001b[0m, in \u001b[0;36mIndex.get_loc\u001b[1;34m(self, key, method, tolerance)\u001b[0m\n\u001b[0;32m   3629\u001b[0m     \u001b[39mreturn\u001b[39;00m \u001b[39mself\u001b[39m\u001b[39m.\u001b[39m_engine\u001b[39m.\u001b[39mget_loc(casted_key)\n\u001b[0;32m   3630\u001b[0m \u001b[39mexcept\u001b[39;00m \u001b[39mKeyError\u001b[39;00m \u001b[39mas\u001b[39;00m err:\n\u001b[1;32m-> 3631\u001b[0m     \u001b[39mraise\u001b[39;00m \u001b[39mKeyError\u001b[39;00m(key) \u001b[39mfrom\u001b[39;00m \u001b[39merr\u001b[39;00m\n\u001b[0;32m   3632\u001b[0m \u001b[39mexcept\u001b[39;00m \u001b[39mTypeError\u001b[39;00m:\n\u001b[0;32m   3633\u001b[0m     \u001b[39m# If we have a listlike key, _check_indexing_error will raise\u001b[39;00m\n\u001b[0;32m   3634\u001b[0m     \u001b[39m#  InvalidIndexError. Otherwise we fall through and re-raise\u001b[39;00m\n\u001b[0;32m   3635\u001b[0m     \u001b[39m#  the TypeError.\u001b[39;00m\n\u001b[0;32m   3636\u001b[0m     \u001b[39mself\u001b[39m\u001b[39m.\u001b[39m_check_indexing_error(key)\n",
      "\u001b[1;31mKeyError\u001b[0m: 'AutoARIMA'"
     ]
    }
   ],
   "source": [
    "res = Y_test.merge(fcst, how='left', on=['unique_id', 'ds'])\n",
    "mae_arima = abs(res['y']-res['AutoARIMA']).mean()\n",
    "print('The MAE with exogenous regressors is '+str(round(mae_arima,2)))"
   ]
  },
  {
   "cell_type": "code",
   "execution_count": 95,
   "metadata": {},
   "outputs": [
    {
     "name": "stdout",
     "output_type": "stream",
     "text": [
      "The MAE with exogenous regressors is 90452.68\n"
     ]
    }
   ],
   "source": [
    "mae_ses = abs(res['y']-res['SESOpt']).mean()\n",
    "print('The MAE with exogenous regressors is '+str(round(mae_ses,2)))"
   ]
  },
  {
   "cell_type": "code",
   "execution_count": 97,
   "metadata": {},
   "outputs": [
    {
     "name": "stdout",
     "output_type": "stream",
     "text": [
      "The MAE with exogenous regressors is 96153.3\n"
     ]
    }
   ],
   "source": [
    "mae_sso = abs(res['y']-res['SES']).mean()\n",
    "print('The MAE with exogenous regressors is '+str(round(mae_sso,2)))"
   ]
  },
  {
   "cell_type": "code",
   "execution_count": 106,
   "metadata": {},
   "outputs": [
    {
     "data": {
      "text/html": [
       "<div>\n",
       "<style scoped>\n",
       "    .dataframe tbody tr th:only-of-type {\n",
       "        vertical-align: middle;\n",
       "    }\n",
       "\n",
       "    .dataframe tbody tr th {\n",
       "        vertical-align: top;\n",
       "    }\n",
       "\n",
       "    .dataframe thead th {\n",
       "        text-align: right;\n",
       "    }\n",
       "</style>\n",
       "<table border=\"1\" class=\"dataframe\">\n",
       "  <thead>\n",
       "    <tr style=\"text-align: right;\">\n",
       "      <th></th>\n",
       "      <th>ds</th>\n",
       "      <th>unique_id</th>\n",
       "      <th>y</th>\n",
       "      <th>SESOpt</th>\n",
       "      <th>SES</th>\n",
       "      <th>WindowAverage</th>\n",
       "    </tr>\n",
       "  </thead>\n",
       "  <tbody>\n",
       "    <tr>\n",
       "      <th>18</th>\n",
       "      <td>2023-03-31</td>\n",
       "      <td>EMEA_CPS_Supply Chain</td>\n",
       "      <td>1655709.23</td>\n",
       "      <td>1700103.625</td>\n",
       "      <td>1569941.25</td>\n",
       "      <td>1892970.375</td>\n",
       "    </tr>\n",
       "    <tr>\n",
       "      <th>78</th>\n",
       "      <td>2023-04-30</td>\n",
       "      <td>EMEA_CPS_Supply Chain</td>\n",
       "      <td>1561130.16</td>\n",
       "      <td>1700103.625</td>\n",
       "      <td>1569941.25</td>\n",
       "      <td>1892970.375</td>\n",
       "    </tr>\n",
       "    <tr>\n",
       "      <th>138</th>\n",
       "      <td>2023-05-31</td>\n",
       "      <td>EMEA_CPS_Supply Chain</td>\n",
       "      <td>1523408.79</td>\n",
       "      <td>1700103.625</td>\n",
       "      <td>1569941.25</td>\n",
       "      <td>1892970.375</td>\n",
       "    </tr>\n",
       "  </tbody>\n",
       "</table>\n",
       "</div>"
      ],
      "text/plain": [
       "            ds              unique_id           y       SESOpt         SES  \\\n",
       "18  2023-03-31  EMEA_CPS_Supply Chain  1655709.23  1700103.625  1569941.25   \n",
       "78  2023-04-30  EMEA_CPS_Supply Chain  1561130.16  1700103.625  1569941.25   \n",
       "138 2023-05-31  EMEA_CPS_Supply Chain  1523408.79  1700103.625  1569941.25   \n",
       "\n",
       "     WindowAverage  \n",
       "18     1892970.375  \n",
       "78     1892970.375  \n",
       "138    1892970.375  "
      ]
     },
     "execution_count": 106,
     "metadata": {},
     "output_type": "execute_result"
    }
   ],
   "source": [
    "res[res['unique_id'] == 'EMEA_CPS_Supply Chain']"
   ]
  },
  {
   "cell_type": "code",
   "execution_count": 62,
   "metadata": {},
   "outputs": [
    {
     "name": "stdout",
     "output_type": "stream",
     "text": [
      "The MAE with exogenous regressors is 125200.02\n"
     ]
    }
   ],
   "source": [
    "mae = abs(res['y']-res['AutoARIMA']).mean()\n",
    "print('The MAE with exogenous regressors is '+str(round(mae,2)))"
   ]
  },
  {
   "cell_type": "code",
   "execution_count": 63,
   "metadata": {},
   "outputs": [],
   "source": [
    "mae = abs(res[res['ds'] == '2023-03-31']['y'] - res[res['ds'] == '2023-03-31']['AutoARIMA']).mean()"
   ]
  },
  {
   "cell_type": "code",
   "execution_count": 64,
   "metadata": {},
   "outputs": [
    {
     "name": "stdout",
     "output_type": "stream",
     "text": [
      "The MAE with exogenous regressors is 142448.57\n"
     ]
    }
   ],
   "source": [
    "print('The MAE with exogenous regressors is '+str(round(mae,2)))"
   ]
  },
  {
   "cell_type": "code",
   "execution_count": null,
   "metadata": {},
   "outputs": [],
   "source": []
  }
 ],
 "metadata": {
  "kernelspec": {
   "display_name": "ml",
   "language": "python",
   "name": "python3"
  },
  "language_info": {
   "codemirror_mode": {
    "name": "ipython",
    "version": 3
   },
   "file_extension": ".py",
   "mimetype": "text/x-python",
   "name": "python",
   "nbconvert_exporter": "python",
   "pygments_lexer": "ipython3",
   "version": "3.10.4"
  },
  "orig_nbformat": 4
 },
 "nbformat": 4,
 "nbformat_minor": 2
}

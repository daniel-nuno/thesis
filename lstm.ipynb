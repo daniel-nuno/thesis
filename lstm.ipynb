{
 "cells": [
  {
   "cell_type": "code",
   "execution_count": 1,
   "metadata": {},
   "outputs": [],
   "source": [
    "import pandas as pd\n",
    "import numpy as np\n",
    "from sklearn.preprocessing import PowerTransformer, MinMaxScaler\n",
    "import matplotlib.pyplot as plt\n",
    "\n",
    "from itertools import product\n",
    "\n",
    "from keras.models import Sequential\n",
    "from keras.layers import Dense, LSTM, Dropout\n",
    "from keras.callbacks import EarlyStopping\n",
    "from sklearn.svm import SVR\n",
    "from sklearn.metrics import mean_squared_error as mse"
   ]
  },
  {
   "cell_type": "code",
   "execution_count": 2,
   "metadata": {},
   "outputs": [],
   "source": [
    "target_line_cost = 'Supply Chain'\n",
    "target_market = 'North America Market'\n",
    "target_business = 'BPS'\n",
    "t = 6\n",
    "\n",
    "#load\n",
    "data_raw = pd.read_excel('dataset_cost.xlsx', sheet_name='actual')\n",
    "#filter\n",
    "data_raw = data_raw[data_raw['03 MARKET'] == target_market]\n",
    "data_raw = data_raw[data_raw['03 SUB SEGMENT'] == target_business]\n",
    "data_raw = data_raw[data_raw['Warranty Measures Hierarchy Level 04 (Label Only)'] == target_line_cost]\n",
    "#reduce size and grouping\n",
    "granularity_set_ = ['04 FISCAL MONTH',\n",
    "                    'Sum of AMOUNT or UNIT - WARRANTY']\n",
    "df = data_raw[granularity_set_]\n",
    "df.columns = ['month', 'value']\n",
    "df = df.groupby(by=['month'], as_index=False)['value'].sum()\n",
    "#dates\n",
    "month_as_date_str = [str(x)[:4] + '-' + str(x)[4:] for x in df.month]\n",
    "month_as_date_str.sort()\n",
    "month_as_date_str.append('2023-02')\n",
    "\n",
    "month_date = pd.date_range(month_as_date_str[0], month_as_date_str[-1], freq='M')\n",
    "mask_date = pd.date_range(month_date[0] + pd.DateOffset(months=2), freq='M', periods=75)\n",
    "\n",
    "month_as_date_str.pop(-1)\n",
    "\n",
    "df.index = mask_date\n",
    "\n",
    "#train and test split\n",
    "data_test = df[df['month'].isin([202301, 202212, 202211, 202210, 202209, 202208])].copy()\n",
    "data_test = data_test['value']\n",
    "data_train = df[~df['month'].isin([202301, 202212, 202211, 202210, 202209, 202208])].copy()\n",
    "data_train = data_train['value']"
   ]
  },
  {
   "cell_type": "code",
   "execution_count": 12,
   "metadata": {},
   "outputs": [
    {
     "data": {
      "text/plain": [
       "2022-10-31    6490418.28\n",
       "2022-11-30    5868556.73\n",
       "2022-12-31    6240545.57\n",
       "2023-01-31    4615811.15\n",
       "2023-02-28    6142760.76\n",
       "2023-03-31    4747824.66\n",
       "Freq: M, Name: value, dtype: float64"
      ]
     },
     "execution_count": 12,
     "metadata": {},
     "output_type": "execute_result"
    }
   ],
   "source": [
    "data_test"
   ]
  },
  {
   "cell_type": "code",
   "execution_count": 3,
   "metadata": {},
   "outputs": [],
   "source": [
    "reg_line_cost = ['Net Revenues', 'Warranty Units Adjusted', 'Total Number of Calls', 'Total Number of Repair Events', 'WIB (Avg)', 'AIR (WIB)']\n",
    "target_market = 'North America Market'\n",
    "target_business = 'BPS'\n",
    "t = 6\n",
    "\n",
    "#load\n",
    "data_reg_raw = pd.read_excel('dataset_reg.xlsx', sheet_name='actual')\n",
    "#filter\n",
    "data_reg_raw = data_reg_raw[data_reg_raw['03 MARKET'] == target_market]\n",
    "data_reg_raw = data_reg_raw[data_reg_raw['03 SUB SEGMENT'] == target_business]\n",
    "data_reg_raw = data_reg_raw[data_reg_raw['Warranty Measures Hierarchy Level 04 (Label Only)'].isin(reg_line_cost)]\n",
    "#reduce size and grouping\n",
    "granularity_set_ = ['04 FISCAL MONTH',\n",
    "                    'Warranty Measures Hierarchy Level 04 (Label Only)',\n",
    "                    'Sum of AMOUNT or UNIT - WARRANTY']\n",
    "data_reg = data_reg_raw[granularity_set_]\n",
    "data_reg.columns = ['month', 'line_cost', 'value']\n",
    "data_reg = data_reg.groupby(by=['month', 'line_cost'], as_index=False)['value'].sum()\n",
    "data_reg = data_reg.pivot(index='month', columns='line_cost', values='value')\n",
    "#dates\n",
    "month_as_date_str = [str(x)[:4] + '-' + str(x)[4:] for x in df.month]\n",
    "month_as_date_str.sort()\n",
    "month_as_date_str.append('2023-02')\n",
    "\n",
    "month_date = pd.date_range(month_as_date_str[0], month_as_date_str[-1], freq='M')\n",
    "mask_date = pd.date_range(month_date[0] + pd.DateOffset(months=2), freq='M', periods=75)\n",
    "\n",
    "month_as_date_str.pop(-1)\n",
    "\n",
    "data_reg.index = mask_date\n",
    "\n",
    "reg_scaler = MinMaxScaler()\n",
    "data_reg_scl = reg_scaler.fit_transform(data_reg)\n",
    "data_reg_scl = pd.DataFrame(data_reg_scl, columns=data_reg.columns, index=data_reg.index)\n",
    "\n",
    "#train and test split\n",
    "data_reg_train = data_reg_scl[:-6].copy()\n",
    "data_reg_test = data_reg_scl[-6:].copy()"
   ]
  },
  {
   "cell_type": "code",
   "execution_count": 4,
   "metadata": {},
   "outputs": [],
   "source": [
    "train_transformer = PowerTransformer(method='box-cox', standardize=True, copy=True)\n",
    "data_trnsfrm_train = train_transformer.fit_transform(data_train.values.reshape(-1,1))\n",
    "data_trnsfrm_train = pd.DataFrame(data_trnsfrm_train, columns=['target'], index=data_train.index)\n",
    "\n",
    "#data_trnsfrm_train = data_trnsfrm_train + 4# shift to make it bigger than 1"
   ]
  },
  {
   "cell_type": "code",
   "execution_count": 5,
   "metadata": {},
   "outputs": [
    {
     "name": "stdout",
     "output_type": "stream",
     "text": [
      "2018-04-30 00:00:00 228.11342355242564\n",
      "2018-08-31 00:00:00 108.96489244452796\n",
      "2021-08-31 00:00:00 -64.9006541070351\n"
     ]
    }
   ],
   "source": [
    "pct_change_ = data_trnsfrm_train['target'].pct_change()\n",
    "upper_bound = pct_change_.mean() + pct_change_.std()*2\n",
    "lower_bound = pct_change_.mean() - pct_change_.std()*2\n",
    "\n",
    "train_one_hot_dates = pd.DataFrame(index=data_train.index)\n",
    "for index, value in pct_change_.items():\n",
    "    if value > upper_bound or value < lower_bound:\n",
    "        print(str(index), value)\n",
    "        train_one_hot_dates[str(index)] = np.zeros(len(train_one_hot_dates))\n",
    "        train_one_hot_dates.loc[index, str(index)] = 1"
   ]
  },
  {
   "cell_type": "code",
   "execution_count": 6,
   "metadata": {},
   "outputs": [],
   "source": [
    "test_one_hot_date = pd.DataFrame(data = [[0,0,0], [0,0,0], [0,0,0], [0,0,0], [0,0,0], [0,0,0]],\n",
    "                                 index = data_reg_test.index,\n",
    "                                 columns = train_one_hot_dates.columns)"
   ]
  },
  {
   "cell_type": "code",
   "execution_count": 7,
   "metadata": {},
   "outputs": [],
   "source": [
    "x_train = train_one_hot_dates.join(data_reg_train)\n",
    "x_test = test_one_hot_date.join(data_reg_test)"
   ]
  },
  {
   "cell_type": "code",
   "execution_count": 8,
   "metadata": {},
   "outputs": [],
   "source": [
    "timesteps = 13\n",
    "train_data_ar = data_trnsfrm_train.values.reshape(-1, 1)\n",
    "train_data_timesteps = np.array([[j for j in train_data_ar[i:i+timesteps]]\n",
    "                                    for i in range(0,len(train_data_ar)-timesteps+1)])[:,:,0]\n",
    "train_data_timesteps.shape\n",
    "\n",
    "X, y = train_data_timesteps[:,:timesteps-1], train_data_timesteps[:,[timesteps-1]]\n",
    "y = y.ravel()\n",
    "\n",
    "X_others = x_train.values[timesteps-1:,:]\n",
    "x_train_2 = np.column_stack((X, X_others))"
   ]
  },
  {
   "cell_type": "code",
   "execution_count": 9,
   "metadata": {},
   "outputs": [
    {
     "data": {
      "text/plain": [
       "(57, 20)"
      ]
     },
     "execution_count": 9,
     "metadata": {},
     "output_type": "execute_result"
    }
   ],
   "source": [
    "x_train_2.shape"
   ]
  },
  {
   "cell_type": "code",
   "execution_count": 10,
   "metadata": {},
   "outputs": [
    {
     "data": {
      "text/plain": [
       "((57,), -2.5420516244492126, 2.4597329798213994)"
      ]
     },
     "execution_count": 10,
     "metadata": {},
     "output_type": "execute_result"
    }
   ],
   "source": [
    "y.shape, y.min(), y.max()"
   ]
  },
  {
   "cell_type": "code",
   "execution_count": 13,
   "metadata": {},
   "outputs": [
    {
     "data": {
      "text/plain": [
       "16"
      ]
     },
     "execution_count": 13,
     "metadata": {},
     "output_type": "execute_result"
    }
   ],
   "source": [
    "# Define the hyperparameters\n",
    "activation_1 = ['linear', 'tanh', 'sigmoid', 'relu']\n",
    "activation_2 = ['linear', 'tanh', 'sigmoid', 'relu']\n",
    "activation_3 = ['linear']\n",
    "neurons_1 = range(10, 1000, 100)\n",
    "neurons_2 = range(10, 500, 50)\n",
    "neurons_3 = range(10, 100, 10)\n",
    "loss = ['mean_squared_error']\n",
    "optimizer = ['adam']\n",
    "epochs = [500]\n",
    "# Create a list of all possible combinations of the hyperparameters\n",
    "parameters = product(activation_1, activation_2, activation_3)\n",
    "parameters_list = list(parameters)\n",
    "len(parameters_list)"
   ]
  },
  {
   "cell_type": "code",
   "execution_count": 17,
   "metadata": {},
   "outputs": [
    {
     "name": "stdout",
     "output_type": "stream",
     "text": [
      "Epoch 237: early stopping\n",
      "2/2 [==============================] - 0s 9ms/step\n",
      "Epoch 218: early stopping\n",
      "2/2 [==============================] - 1s 11ms/step\n",
      "Epoch 370: early stopping\n",
      "2/2 [==============================] - 0s 9ms/step\n",
      "Epoch 292: early stopping\n",
      "2/2 [==============================] - 1s 11ms/step\n",
      "Epoch 352: early stopping\n",
      "WARNING:tensorflow:5 out of the last 9 calls to <function Model.make_predict_function.<locals>.predict_function at 0x000001E7A3FF4B80> triggered tf.function retracing. Tracing is expensive and the excessive number of tracings could be due to (1) creating @tf.function repeatedly in a loop, (2) passing tensors with different shapes, (3) passing Python objects instead of tensors. For (1), please define your @tf.function outside of the loop. For (2), @tf.function has reduce_retracing=True option that can avoid unnecessary retracing. For (3), please refer to https://www.tensorflow.org/guide/function#controlling_retracing and https://www.tensorflow.org/api_docs/python/tf/function for  more details.\n",
      "2/2 [==============================] - 1s 13ms/step\n",
      "Epoch 323: early stopping\n",
      "WARNING:tensorflow:6 out of the last 11 calls to <function Model.make_predict_function.<locals>.predict_function at 0x000001E7A3FF5E10> triggered tf.function retracing. Tracing is expensive and the excessive number of tracings could be due to (1) creating @tf.function repeatedly in a loop, (2) passing tensors with different shapes, (3) passing Python objects instead of tensors. For (1), please define your @tf.function outside of the loop. For (2), @tf.function has reduce_retracing=True option that can avoid unnecessary retracing. For (3), please refer to https://www.tensorflow.org/guide/function#controlling_retracing and https://www.tensorflow.org/api_docs/python/tf/function for  more details.\n",
      "2/2 [==============================] - 1s 9ms/step\n",
      "Epoch 321: early stopping\n",
      "2/2 [==============================] - 1s 10ms/step\n",
      "Epoch 277: early stopping\n",
      "2/2 [==============================] - 1s 9ms/step\n",
      "Epoch 85: early stopping\n",
      "2/2 [==============================] - 0s 10ms/step\n",
      "Epoch 207: early stopping\n",
      "2/2 [==============================] - 1s 12ms/step\n",
      "2/2 [==============================] - 1s 10ms/step\n",
      "Epoch 365: early stopping\n",
      "2/2 [==============================] - 1s 9ms/step\n",
      "Epoch 495: early stopping\n",
      "2/2 [==============================] - 1s 15ms/step\n",
      "Epoch 244: early stopping\n",
      "2/2 [==============================] - 1s 12ms/step\n",
      "Epoch 326: early stopping\n",
      "2/2 [==============================] - 1s 10ms/step\n",
      "Epoch 423: early stopping\n",
      "2/2 [==============================] - 1s 10ms/step\n"
     ]
    }
   ],
   "source": [
    "def lstm_model(y, x, activation_1, activation_2, activation_3):\n",
    "    model = Sequential()\n",
    "    model.add(LSTM(100, input_shape=(20, 1), activation=activation_1, return_sequences=True))\n",
    "    model.add(LSTM(50, activation=activation_2, return_sequences=True))\n",
    "    model.add(Dropout(0.01))\n",
    "    model.add(Dense(1, activation=activation_3))\n",
    "    model.compile(loss='mean_squared_error', optimizer='adam')\n",
    "    es = EarlyStopping(monitor='loss', mode='min', verbose=1, patience=20)\n",
    "    model.fit(x, y, epochs=500, batch_size=1, verbose=0, callbacks=es, validation_split=0.02)\n",
    "    y_hat = model.predict(x)\n",
    "    \n",
    "    return mse(y, y_hat[:, 0])\n",
    "\n",
    "best_mse = np.inf\n",
    "best_params = None\n",
    "for param in parameters_list:\n",
    "    try:\n",
    "        mse_model = lstm_model(y, x_train_2, param[0], param[1], param[2])\n",
    "        if mse_model < best_mse:\n",
    "            best_mse = mse_model\n",
    "            best_params = param\n",
    "    except:\n",
    "        continue"
   ]
  },
  {
   "cell_type": "code",
   "execution_count": 18,
   "metadata": {},
   "outputs": [
    {
     "data": {
      "text/plain": [
       "('relu', 'relu', 'linear')"
      ]
     },
     "execution_count": 18,
     "metadata": {},
     "output_type": "execute_result"
    }
   ],
   "source": [
    "best_params"
   ]
  },
  {
   "cell_type": "code",
   "execution_count": 19,
   "metadata": {},
   "outputs": [
    {
     "data": {
      "text/plain": [
       "0.9217861330194839"
      ]
     },
     "execution_count": 19,
     "metadata": {},
     "output_type": "execute_result"
    }
   ],
   "source": [
    "best_mse"
   ]
  },
  {
   "cell_type": "code",
   "execution_count": 15,
   "metadata": {},
   "outputs": [
    {
     "name": "stdout",
     "output_type": "stream",
     "text": [
      "Epoch 1/1000\n",
      "55/55 - 3s - loss: 1.0431 - val_loss: 2.1065 - 3s/epoch - 58ms/step\n",
      "Epoch 2/1000\n",
      "55/55 - 1s - loss: 0.9991 - val_loss: 2.2667 - 740ms/epoch - 13ms/step\n",
      "Epoch 3/1000\n",
      "55/55 - 1s - loss: 0.9700 - val_loss: 2.2677 - 758ms/epoch - 14ms/step\n",
      "Epoch 4/1000\n",
      "55/55 - 1s - loss: 0.9934 - val_loss: 2.3619 - 754ms/epoch - 14ms/step\n",
      "Epoch 5/1000\n",
      "55/55 - 1s - loss: 0.9775 - val_loss: 2.5085 - 753ms/epoch - 14ms/step\n",
      "Epoch 6/1000\n",
      "55/55 - 1s - loss: 0.9760 - val_loss: 2.3422 - 760ms/epoch - 14ms/step\n",
      "Epoch 7/1000\n",
      "55/55 - 1s - loss: 0.9456 - val_loss: 2.6555 - 764ms/epoch - 14ms/step\n",
      "Epoch 8/1000\n",
      "55/55 - 1s - loss: 0.9234 - val_loss: 2.5109 - 765ms/epoch - 14ms/step\n",
      "Epoch 9/1000\n",
      "55/55 - 1s - loss: 0.9145 - val_loss: 2.5793 - 764ms/epoch - 14ms/step\n",
      "Epoch 10/1000\n",
      "55/55 - 1s - loss: 10.5286 - val_loss: 2.2474 - 770ms/epoch - 14ms/step\n",
      "Epoch 11/1000\n",
      "55/55 - 1s - loss: 0.9498 - val_loss: 2.3670 - 769ms/epoch - 14ms/step\n",
      "Epoch 12/1000\n",
      "55/55 - 1s - loss: 0.9382 - val_loss: 2.2933 - 772ms/epoch - 14ms/step\n",
      "Epoch 13/1000\n",
      "55/55 - 1s - loss: 0.9392 - val_loss: 2.3657 - 773ms/epoch - 14ms/step\n",
      "Epoch 14/1000\n",
      "55/55 - 1s - loss: 0.9442 - val_loss: 2.3935 - 781ms/epoch - 14ms/step\n",
      "Epoch 15/1000\n",
      "55/55 - 1s - loss: 0.9281 - val_loss: 2.4125 - 780ms/epoch - 14ms/step\n",
      "Epoch 16/1000\n",
      "55/55 - 1s - loss: 0.9041 - val_loss: 2.5165 - 784ms/epoch - 14ms/step\n",
      "Epoch 17/1000\n",
      "55/55 - 1s - loss: 0.8924 - val_loss: 2.5187 - 775ms/epoch - 14ms/step\n",
      "Epoch 18/1000\n",
      "55/55 - 1s - loss: 0.8909 - val_loss: 2.5461 - 780ms/epoch - 14ms/step\n",
      "Epoch 19/1000\n",
      "55/55 - 1s - loss: 0.8751 - val_loss: 2.5923 - 780ms/epoch - 14ms/step\n",
      "Epoch 20/1000\n",
      "55/55 - 1s - loss: 0.8646 - val_loss: 2.5772 - 800ms/epoch - 15ms/step\n",
      "Epoch 21/1000\n",
      "55/55 - 1s - loss: 0.8670 - val_loss: 2.4635 - 792ms/epoch - 14ms/step\n",
      "Epoch 22/1000\n",
      "55/55 - 1s - loss: 0.8537 - val_loss: 2.6824 - 796ms/epoch - 14ms/step\n",
      "Epoch 23/1000\n",
      "55/55 - 1s - loss: 0.8476 - val_loss: 2.6707 - 785ms/epoch - 14ms/step\n",
      "Epoch 24/1000\n",
      "55/55 - 1s - loss: 0.8404 - val_loss: 2.7453 - 784ms/epoch - 14ms/step\n",
      "Epoch 25/1000\n",
      "55/55 - 1s - loss: 0.8094 - val_loss: 2.6856 - 781ms/epoch - 14ms/step\n",
      "Epoch 26/1000\n",
      "55/55 - 1s - loss: 0.8159 - val_loss: 2.7509 - 780ms/epoch - 14ms/step\n",
      "Epoch 27/1000\n",
      "55/55 - 1s - loss: 0.8002 - val_loss: 2.6126 - 825ms/epoch - 15ms/step\n",
      "Epoch 28/1000\n",
      "55/55 - 1s - loss: 0.7664 - val_loss: 2.5298 - 792ms/epoch - 14ms/step\n",
      "Epoch 29/1000\n",
      "55/55 - 1s - loss: 0.7966 - val_loss: 2.5256 - 788ms/epoch - 14ms/step\n",
      "Epoch 30/1000\n",
      "55/55 - 1s - loss: 0.7806 - val_loss: 2.7797 - 796ms/epoch - 14ms/step\n",
      "Epoch 31/1000\n",
      "55/55 - 1s - loss: 0.7685 - val_loss: 2.1413 - 801ms/epoch - 15ms/step\n",
      "Epoch 32/1000\n",
      "55/55 - 1s - loss: 0.7379 - val_loss: 2.8193 - 791ms/epoch - 14ms/step\n",
      "Epoch 33/1000\n",
      "55/55 - 1s - loss: 0.7098 - val_loss: 2.1417 - 790ms/epoch - 14ms/step\n",
      "Epoch 34/1000\n",
      "55/55 - 1s - loss: 0.7164 - val_loss: 2.5258 - 803ms/epoch - 15ms/step\n",
      "Epoch 35/1000\n",
      "55/55 - 1s - loss: 0.7229 - val_loss: 2.7110 - 784ms/epoch - 14ms/step\n",
      "Epoch 36/1000\n",
      "55/55 - 1s - loss: 0.6878 - val_loss: 2.3824 - 829ms/epoch - 15ms/step\n",
      "Epoch 37/1000\n",
      "55/55 - 1s - loss: 0.6843 - val_loss: 2.9137 - 819ms/epoch - 15ms/step\n",
      "Epoch 38/1000\n",
      "55/55 - 1s - loss: 0.7051 - val_loss: 2.4010 - 823ms/epoch - 15ms/step\n",
      "Epoch 39/1000\n",
      "55/55 - 1s - loss: 0.6538 - val_loss: 2.6872 - 814ms/epoch - 15ms/step\n",
      "Epoch 40/1000\n",
      "55/55 - 1s - loss: 0.6610 - val_loss: 2.7101 - 814ms/epoch - 15ms/step\n",
      "Epoch 41/1000\n",
      "55/55 - 1s - loss: 0.6350 - val_loss: 2.3196 - 788ms/epoch - 14ms/step\n",
      "Epoch 42/1000\n",
      "55/55 - 1s - loss: 0.6309 - val_loss: 2.7513 - 816ms/epoch - 15ms/step\n",
      "Epoch 43/1000\n",
      "55/55 - 1s - loss: 0.6224 - val_loss: 2.2608 - 822ms/epoch - 15ms/step\n",
      "Epoch 44/1000\n",
      "55/55 - 1s - loss: 0.5965 - val_loss: 2.1752 - 824ms/epoch - 15ms/step\n",
      "Epoch 45/1000\n",
      "55/55 - 1s - loss: 0.7002 - val_loss: 2.0277 - 837ms/epoch - 15ms/step\n",
      "Epoch 46/1000\n",
      "55/55 - 1s - loss: 0.7448 - val_loss: 2.7168 - 827ms/epoch - 15ms/step\n",
      "Epoch 47/1000\n",
      "55/55 - 1s - loss: 0.7362 - val_loss: 2.2619 - 804ms/epoch - 15ms/step\n",
      "Epoch 48/1000\n",
      "55/55 - 1s - loss: 0.7214 - val_loss: 2.9350 - 799ms/epoch - 15ms/step\n",
      "Epoch 49/1000\n",
      "55/55 - 1s - loss: 0.8481 - val_loss: 2.2459 - 794ms/epoch - 14ms/step\n",
      "Epoch 50/1000\n",
      "55/55 - 1s - loss: 0.7575 - val_loss: 2.0464 - 798ms/epoch - 15ms/step\n",
      "Epoch 51/1000\n",
      "55/55 - 1s - loss: 0.7285 - val_loss: 2.6085 - 797ms/epoch - 14ms/step\n",
      "Epoch 52/1000\n",
      "55/55 - 1s - loss: 0.7247 - val_loss: 2.4591 - 791ms/epoch - 14ms/step\n",
      "Epoch 53/1000\n",
      "55/55 - 1s - loss: 0.6888 - val_loss: 2.1241 - 808ms/epoch - 15ms/step\n",
      "Epoch 54/1000\n",
      "55/55 - 1s - loss: 0.6850 - val_loss: 2.4523 - 817ms/epoch - 15ms/step\n",
      "Epoch 55/1000\n",
      "55/55 - 1s - loss: 0.6849 - val_loss: 2.4858 - 821ms/epoch - 15ms/step\n",
      "Epoch 56/1000\n",
      "55/55 - 1s - loss: 0.6757 - val_loss: 1.7080 - 824ms/epoch - 15ms/step\n",
      "Epoch 57/1000\n",
      "55/55 - 1s - loss: 0.6715 - val_loss: 2.9311 - 806ms/epoch - 15ms/step\n",
      "Epoch 58/1000\n",
      "55/55 - 1s - loss: 0.7017 - val_loss: 2.0485 - 961ms/epoch - 17ms/step\n",
      "Epoch 59/1000\n",
      "55/55 - 1s - loss: 0.6848 - val_loss: 2.2094 - 917ms/epoch - 17ms/step\n",
      "Epoch 60/1000\n",
      "55/55 - 1s - loss: 0.6489 - val_loss: 2.3153 - 1s/epoch - 23ms/step\n",
      "Epoch 61/1000\n",
      "55/55 - 1s - loss: 0.6860 - val_loss: 2.6147 - 1s/epoch - 20ms/step\n",
      "Epoch 62/1000\n",
      "55/55 - 2s - loss: 0.6013 - val_loss: 2.2037 - 2s/epoch - 33ms/step\n",
      "Epoch 63/1000\n",
      "55/55 - 1s - loss: 0.6783 - val_loss: 1.8463 - 896ms/epoch - 16ms/step\n",
      "Epoch 64/1000\n",
      "55/55 - 1s - loss: 0.6450 - val_loss: 2.1184 - 1s/epoch - 19ms/step\n",
      "Epoch 64: early stopping\n",
      "2/2 [==============================] - 1s 14ms/step\n"
     ]
    },
    {
     "data": {
      "text/plain": [
       "1.0214583987217345"
      ]
     },
     "execution_count": 15,
     "metadata": {},
     "output_type": "execute_result"
    }
   ],
   "source": [
    "#activation_1, activation_2, neurons_1, neurons_2, loss, optimizer, epochs\n",
    "model = Sequential()\n",
    "model.add(LSTM(200, input_shape=(20, 1), activation='relu', return_sequences=True))\n",
    "model.add(LSTM(100, activation='relu', return_sequences=True))\n",
    "model.add(Dropout(0.01))\n",
    "model.add(Dense(1, activation='linear'))\n",
    "model.compile(loss='mean_squared_error', optimizer='adam')\n",
    "es = EarlyStopping(monitor='loss', mode='min', verbose=1, patience=20)\n",
    "model.fit(x_train_2, y, epochs=1000, batch_size=1, verbose=2, callbacks=es, validation_split=0.02)\n",
    "y_hat = model.predict(x_train_2)\n",
    "mse(y, y_hat[:, 0])\n"
   ]
  },
  {
   "cell_type": "code",
   "execution_count": 80,
   "metadata": {},
   "outputs": [
    {
     "name": "stdout",
     "output_type": "stream",
     "text": [
      "1/1 [==============================] - 0s 24ms/step\n"
     ]
    },
    {
     "data": {
      "text/plain": [
       "array([[0.40010893]], dtype=float32)"
      ]
     },
     "execution_count": 80,
     "metadata": {},
     "output_type": "execute_result"
    }
   ],
   "source": [
    "model.predict(x_train_2[-1:])[:,0]"
   ]
  },
  {
   "cell_type": "code",
   "execution_count": 53,
   "metadata": {},
   "outputs": [
    {
     "name": "stdout",
     "output_type": "stream",
     "text": [
      "2/2 [==============================] - 0s 13ms/step\n"
     ]
    }
   ],
   "source": [
    "res = y - model.predict(x_train_2)[:, 0]\n"
   ]
  },
  {
   "cell_type": "code",
   "execution_count": 54,
   "metadata": {},
   "outputs": [
    {
     "data": {
      "text/plain": [
       "(57, 57)"
      ]
     },
     "execution_count": 54,
     "metadata": {},
     "output_type": "execute_result"
    }
   ],
   "source": [
    "res.shape"
   ]
  },
  {
   "cell_type": "code",
   "execution_count": 55,
   "metadata": {},
   "outputs": [
    {
     "data": {
      "text/plain": [
       "(33.48217903756667,\n",
       " 5.3633631151095366e-08,\n",
       " 0.23461185095239057,\n",
       " 3.1647975523738237)"
      ]
     },
     "execution_count": 55,
     "metadata": {},
     "output_type": "execute_result"
    }
   ],
   "source": [
    "from scipy.stats import shapiro\n",
    "sms.jarque_bera(res.ravel())"
   ]
  },
  {
   "cell_type": "code",
   "execution_count": 58,
   "metadata": {},
   "outputs": [
    {
     "data": {
      "text/plain": [
       "KstestResult(statistic=0.09333363254167332, pvalue=4.410641910412527e-25)"
      ]
     },
     "execution_count": 58,
     "metadata": {},
     "output_type": "execute_result"
    }
   ],
   "source": [
    "import statsmodels.stats.api as sms\n",
    "kstest(res.ravel(), 'norm')"
   ]
  },
  {
   "cell_type": "code",
   "execution_count": 57,
   "metadata": {},
   "outputs": [
    {
     "data": {
      "text/plain": [
       "((array([-3.52303322, -3.28067583, -3.14672675, ...,  3.14672675,\n",
       "          3.28067583,  3.52303322]),\n",
       "  array([-2.80513779, -2.76312659, -2.728365  , ...,  2.59106365,\n",
       "          2.59149325,  2.59155417])),\n",
       " (1.024281590453464, -0.09764556039137706, 0.9914215618237768))"
      ]
     },
     "execution_count": 57,
     "metadata": {},
     "output_type": "execute_result"
    },
    {
     "data": {
      "image/png": "[encoded data removed]",
      "text/plain": [
       "<Figure size 640x480 with 1 Axes>"
      ]
     },
     "metadata": {},
     "output_type": "display_data"
    }
   ],
   "source": [
    "from scipy import stats\n",
    "stats.probplot(res.ravel(), dist=\"norm\", plot= plt)"
   ]
  },
  {
   "cell_type": "code",
   "execution_count": null,
   "metadata": {},
   "outputs": [],
   "source": []
  },
  {
   "cell_type": "code",
   "execution_count": 16,
   "metadata": {},
   "outputs": [
    {
     "name": "stdout",
     "output_type": "stream",
     "text": [
      "1/1 [==============================] - 0s 328ms/step\n",
      "1/1 [==============================] - 0s 32ms/step\n",
      "1/1 [==============================] - 0s 33ms/step\n",
      "1/1 [==============================] - 0s 33ms/step\n",
      "1/1 [==============================] - 0s 32ms/step\n",
      "1/1 [==============================] - 0s 31ms/step\n"
     ]
    }
   ],
   "source": [
    "y_hat_scl = np.zeros(6)\n",
    "y_temp = y.copy()\n",
    "\n",
    "for i in range(6):\n",
    "    x_test_temp = y_temp[-(timesteps-1):].reshape(1, (timesteps-1))\n",
    "    y_hat_scl[i] = model.predict(x_test_temp)[:,0]\n",
    "    y_temp = np.append(y_temp, y_hat_scl[i])\n"
   ]
  },
  {
   "cell_type": "code",
   "execution_count": 65,
   "metadata": {},
   "outputs": [
    {
     "data": {
      "text/plain": [
       "((6,), (1, 12), (63,))"
      ]
     },
     "execution_count": 65,
     "metadata": {},
     "output_type": "execute_result"
    }
   ],
   "source": [
    "y_hat_scl.shape, x_test_temp.shape, y_temp.shape"
   ]
  },
  {
   "cell_type": "code",
   "execution_count": 17,
   "metadata": {},
   "outputs": [
    {
     "data": {
      "text/plain": [
       "array([ 0.02005122, -0.0614536 , -0.02075319, -0.2594357 , -0.03808088,\n",
       "       -0.22091277])"
      ]
     },
     "execution_count": 17,
     "metadata": {},
     "output_type": "execute_result"
    }
   ],
   "source": [
    "#y_hat_scl = y_hat_scl - 4 #shiftback\n",
    "y_hat = train_transformer.inverse_transform(y_hat_scl.reshape(-1,1)) #transform box cox inverse\n",
    "#compare\n",
    "error_svr = data_test.values / y_hat.ravel() - 1\n",
    "error_svr"
   ]
  },
  {
   "cell_type": "code",
   "execution_count": 18,
   "metadata": {},
   "outputs": [
    {
     "data": {
      "text/plain": [
       "array([[6362835.68359233],\n",
       "       [6252814.67898688],\n",
       "       [6372801.54499905],\n",
       "       [6232829.68427154],\n",
       "       [6385943.10609051],\n",
       "       [6094086.07363188]])"
      ]
     },
     "execution_count": 18,
     "metadata": {},
     "output_type": "execute_result"
    }
   ],
   "source": [
    "y_hat"
   ]
  }
 ],
 "metadata": {
  "kernelspec": {
   "display_name": "ml",
   "language": "python",
   "name": "python3"
  },
  "language_info": {
   "codemirror_mode": {
    "name": "ipython",
    "version": 3
   },
   "file_extension": ".py",
   "mimetype": "text/x-python",
   "name": "python",
   "nbconvert_exporter": "python",
   "pygments_lexer": "ipython3",
   "version": "3.10.4"
  },
  "orig_nbformat": 4
 },
 "nbformat": 4,
 "nbformat_minor": 2
}

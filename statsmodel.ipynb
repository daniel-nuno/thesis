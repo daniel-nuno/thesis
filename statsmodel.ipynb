{
 "cells": [
  {
   "cell_type": "code",
   "execution_count": 1,
   "metadata": {},
   "outputs": [
    {
     "name": "stderr",
     "output_type": "stream",
     "text": [
      "c:\\Users\\nuno\\Miniconda3\\envs\\ml\\lib\\site-packages\\statsforecast\\core.py:21: TqdmExperimentalWarning: Using `tqdm.autonotebook.tqdm` in notebook mode. Use `tqdm.tqdm` instead to force console mode (e.g. in jupyter console)\n",
      "  from tqdm.autonotebook import tqdm\n"
     ]
    }
   ],
   "source": [
    "import pandas as pd\n",
    "import numpy as np\n",
    "import matplotlib.pyplot as plt\n",
    "\n",
    "from statsforecast import StatsForecast\n",
    "from statsforecast.models import AutoARIMA\n",
    "\n",
    "from sklearn.preprocessing import PowerTransformer, MinMaxScaler\n"
   ]
  },
  {
   "cell_type": "code",
   "execution_count": 2,
   "metadata": {},
   "outputs": [
    {
     "data": {
      "text/html": [
       "<div>\n",
       "<style scoped>\n",
       "    .dataframe tbody tr th:only-of-type {\n",
       "        vertical-align: middle;\n",
       "    }\n",
       "\n",
       "    .dataframe tbody tr th {\n",
       "        vertical-align: top;\n",
       "    }\n",
       "\n",
       "    .dataframe thead th {\n",
       "        text-align: right;\n",
       "    }\n",
       "</style>\n",
       "<table border=\"1\" class=\"dataframe\">\n",
       "  <thead>\n",
       "    <tr style=\"text-align: right;\">\n",
       "      <th></th>\n",
       "      <th>04 FISCAL MONTH</th>\n",
       "      <th>id</th>\n",
       "      <th>Contact Center OH Expense</th>\n",
       "      <th>Phone Support Expense</th>\n",
       "      <th>Non-Phone Expense</th>\n",
       "      <th>E-Support Expenses</th>\n",
       "      <th>Contact Center Residual</th>\n",
       "      <th>Other Warranty Expense</th>\n",
       "      <th>Architecture and Change</th>\n",
       "      <th>General Management Costs</th>\n",
       "      <th>...</th>\n",
       "      <th>GBU OH</th>\n",
       "      <th>Reimbursable Quality Issue</th>\n",
       "      <th>Unit Impacts</th>\n",
       "      <th>Adjustment Impacts</th>\n",
       "      <th>Delivery</th>\n",
       "      <th>Supply Chain</th>\n",
       "      <th>Other Repair Cost</th>\n",
       "      <th>Delivery OH</th>\n",
       "      <th>Supply Chain OH</th>\n",
       "      <th>Level 2 Support</th>\n",
       "    </tr>\n",
       "  </thead>\n",
       "  <tbody>\n",
       "    <tr>\n",
       "      <th>0</th>\n",
       "      <td>201611</td>\n",
       "      <td>North America Market + AMS Other_PL4L</td>\n",
       "      <td>0.0</td>\n",
       "      <td>3054.321877</td>\n",
       "      <td>2199.701673</td>\n",
       "      <td>0.0</td>\n",
       "      <td>0.0</td>\n",
       "      <td>0.0</td>\n",
       "      <td>0.0</td>\n",
       "      <td>0.0</td>\n",
       "      <td>...</td>\n",
       "      <td>0.000000</td>\n",
       "      <td>0.0</td>\n",
       "      <td>1247.37</td>\n",
       "      <td>-12958.35</td>\n",
       "      <td>4851.032028</td>\n",
       "      <td>182641.015625</td>\n",
       "      <td>-28279.235229</td>\n",
       "      <td>0.0</td>\n",
       "      <td>0.0</td>\n",
       "      <td>0.0</td>\n",
       "    </tr>\n",
       "    <tr>\n",
       "      <th>1</th>\n",
       "      <td>201611</td>\n",
       "      <td>North America Market + AMS Other_PL6A</td>\n",
       "      <td>0.0</td>\n",
       "      <td>8980.690000</td>\n",
       "      <td>3867.290000</td>\n",
       "      <td>0.0</td>\n",
       "      <td>0.0</td>\n",
       "      <td>0.0</td>\n",
       "      <td>0.0</td>\n",
       "      <td>0.0</td>\n",
       "      <td>...</td>\n",
       "      <td>730.115654</td>\n",
       "      <td>0.0</td>\n",
       "      <td>-7929.57</td>\n",
       "      <td>-30674.58</td>\n",
       "      <td>23.111818</td>\n",
       "      <td>310.248169</td>\n",
       "      <td>0.000000</td>\n",
       "      <td>0.0</td>\n",
       "      <td>0.0</td>\n",
       "      <td>0.0</td>\n",
       "    </tr>\n",
       "    <tr>\n",
       "      <th>2</th>\n",
       "      <td>201611</td>\n",
       "      <td>North America Market + AMS Other_PLGT</td>\n",
       "      <td>0.0</td>\n",
       "      <td>0.000000</td>\n",
       "      <td>0.000000</td>\n",
       "      <td>0.0</td>\n",
       "      <td>0.0</td>\n",
       "      <td>0.0</td>\n",
       "      <td>0.0</td>\n",
       "      <td>0.0</td>\n",
       "      <td>...</td>\n",
       "      <td>0.000000</td>\n",
       "      <td>0.0</td>\n",
       "      <td>0.00</td>\n",
       "      <td>0.00</td>\n",
       "      <td>0.000000</td>\n",
       "      <td>0.000000</td>\n",
       "      <td>255.000000</td>\n",
       "      <td>0.0</td>\n",
       "      <td>0.0</td>\n",
       "      <td>0.0</td>\n",
       "    </tr>\n",
       "    <tr>\n",
       "      <th>3</th>\n",
       "      <td>201611</td>\n",
       "      <td>North America Market + AMS Other_PLMA</td>\n",
       "      <td>0.0</td>\n",
       "      <td>0.000000</td>\n",
       "      <td>0.000000</td>\n",
       "      <td>0.0</td>\n",
       "      <td>0.0</td>\n",
       "      <td>0.0</td>\n",
       "      <td>0.0</td>\n",
       "      <td>0.0</td>\n",
       "      <td>...</td>\n",
       "      <td>0.000000</td>\n",
       "      <td>0.0</td>\n",
       "      <td>-38304.67</td>\n",
       "      <td>-35612.32</td>\n",
       "      <td>1710.573608</td>\n",
       "      <td>188662.280273</td>\n",
       "      <td>0.000000</td>\n",
       "      <td>0.0</td>\n",
       "      <td>0.0</td>\n",
       "      <td>0.0</td>\n",
       "    </tr>\n",
       "    <tr>\n",
       "      <th>4</th>\n",
       "      <td>201611</td>\n",
       "      <td>North America Market + AMS Other_PLMC</td>\n",
       "      <td>0.0</td>\n",
       "      <td>0.000000</td>\n",
       "      <td>0.000000</td>\n",
       "      <td>0.0</td>\n",
       "      <td>0.0</td>\n",
       "      <td>0.0</td>\n",
       "      <td>0.0</td>\n",
       "      <td>0.0</td>\n",
       "      <td>...</td>\n",
       "      <td>0.000000</td>\n",
       "      <td>0.0</td>\n",
       "      <td>0.00</td>\n",
       "      <td>0.00</td>\n",
       "      <td>4.753579</td>\n",
       "      <td>-544.243591</td>\n",
       "      <td>0.000000</td>\n",
       "      <td>0.0</td>\n",
       "      <td>0.0</td>\n",
       "      <td>0.0</td>\n",
       "    </tr>\n",
       "  </tbody>\n",
       "</table>\n",
       "<p>5 rows × 23 columns</p>\n",
       "</div>"
      ],
      "text/plain": [
       "   04 FISCAL MONTH                                     id  \\\n",
       "0           201611  North America Market + AMS Other_PL4L   \n",
       "1           201611  North America Market + AMS Other_PL6A   \n",
       "2           201611  North America Market + AMS Other_PLGT   \n",
       "3           201611  North America Market + AMS Other_PLMA   \n",
       "4           201611  North America Market + AMS Other_PLMC   \n",
       "\n",
       "   Contact Center OH Expense  Phone Support Expense  Non-Phone Expense  \\\n",
       "0                        0.0            3054.321877        2199.701673   \n",
       "1                        0.0            8980.690000        3867.290000   \n",
       "2                        0.0               0.000000           0.000000   \n",
       "3                        0.0               0.000000           0.000000   \n",
       "4                        0.0               0.000000           0.000000   \n",
       "\n",
       "   E-Support Expenses  Contact Center Residual  Other Warranty Expense  \\\n",
       "0                 0.0                      0.0                     0.0   \n",
       "1                 0.0                      0.0                     0.0   \n",
       "2                 0.0                      0.0                     0.0   \n",
       "3                 0.0                      0.0                     0.0   \n",
       "4                 0.0                      0.0                     0.0   \n",
       "\n",
       "   Architecture and Change  General Management Costs  ...      GBU OH  \\\n",
       "0                      0.0                       0.0  ...    0.000000   \n",
       "1                      0.0                       0.0  ...  730.115654   \n",
       "2                      0.0                       0.0  ...    0.000000   \n",
       "3                      0.0                       0.0  ...    0.000000   \n",
       "4                      0.0                       0.0  ...    0.000000   \n",
       "\n",
       "   Reimbursable Quality Issue  Unit Impacts  Adjustment Impacts     Delivery  \\\n",
       "0                         0.0       1247.37           -12958.35  4851.032028   \n",
       "1                         0.0      -7929.57           -30674.58    23.111818   \n",
       "2                         0.0          0.00                0.00     0.000000   \n",
       "3                         0.0     -38304.67           -35612.32  1710.573608   \n",
       "4                         0.0          0.00                0.00     4.753579   \n",
       "\n",
       "    Supply Chain  Other Repair Cost  Delivery OH  Supply Chain OH  \\\n",
       "0  182641.015625      -28279.235229          0.0              0.0   \n",
       "1     310.248169           0.000000          0.0              0.0   \n",
       "2       0.000000         255.000000          0.0              0.0   \n",
       "3  188662.280273           0.000000          0.0              0.0   \n",
       "4    -544.243591           0.000000          0.0              0.0   \n",
       "\n",
       "   Level 2 Support  \n",
       "0              0.0  \n",
       "1              0.0  \n",
       "2              0.0  \n",
       "3              0.0  \n",
       "4              0.0  \n",
       "\n",
       "[5 rows x 23 columns]"
      ]
     },
     "execution_count": 2,
     "metadata": {},
     "output_type": "execute_result"
    }
   ],
   "source": [
    "#load\n",
    "data_raw = pd.read_excel('dataset_cost_3.xlsx', sheet_name='data')\n",
    "data = data_raw.fillna(0).copy()\n",
    "#replace_negatives = lambda x: 0 if x < 0 else x\n",
    "#data['value'] = data['value'].map(replace_negatives)\n",
    "#data['value'] = data['value']/100\n",
    "data.head()"
   ]
  },
  {
   "cell_type": "code",
   "execution_count": 6,
   "metadata": {},
   "outputs": [],
   "source": [
    "data = pd.melt(frame=data, id_vars=['04 FISCAL MONTH', 'id'], value_name='y', var_name='line_cost')"
   ]
  },
  {
   "cell_type": "code",
   "execution_count": 7,
   "metadata": {},
   "outputs": [
    {
     "data": {
      "text/html": [
       "<div>\n",
       "<style scoped>\n",
       "    .dataframe tbody tr th:only-of-type {\n",
       "        vertical-align: middle;\n",
       "    }\n",
       "\n",
       "    .dataframe tbody tr th {\n",
       "        vertical-align: top;\n",
       "    }\n",
       "\n",
       "    .dataframe thead th {\n",
       "        text-align: right;\n",
       "    }\n",
       "</style>\n",
       "<table border=\"1\" class=\"dataframe\">\n",
       "  <thead>\n",
       "    <tr style=\"text-align: right;\">\n",
       "      <th></th>\n",
       "      <th>04 FISCAL MONTH</th>\n",
       "      <th>id</th>\n",
       "      <th>Net Revenues</th>\n",
       "      <th>Warranty Units Adjusted</th>\n",
       "      <th>WIB</th>\n",
       "      <th>Total Number of Calls</th>\n",
       "      <th>Total Number of Repair Events</th>\n",
       "      <th>AIR (Avg)</th>\n",
       "    </tr>\n",
       "  </thead>\n",
       "  <tbody>\n",
       "    <tr>\n",
       "      <th>0</th>\n",
       "      <td>201611</td>\n",
       "      <td>North America Market + AMS Other_PL4L</td>\n",
       "      <td>198428.84872</td>\n",
       "      <td>166.0</td>\n",
       "      <td>1163.0</td>\n",
       "      <td>68.630716</td>\n",
       "      <td>0.0</td>\n",
       "      <td>0.0</td>\n",
       "    </tr>\n",
       "    <tr>\n",
       "      <th>1</th>\n",
       "      <td>201611</td>\n",
       "      <td>Latin America Market_PL4L</td>\n",
       "      <td>36976.62628</td>\n",
       "      <td>61.0</td>\n",
       "      <td>414.0</td>\n",
       "      <td>46.718345</td>\n",
       "      <td>0.0</td>\n",
       "      <td>0.0</td>\n",
       "    </tr>\n",
       "    <tr>\n",
       "      <th>2</th>\n",
       "      <td>201611</td>\n",
       "      <td>Southern Europe Market_PL4L</td>\n",
       "      <td>0.00000</td>\n",
       "      <td>356.0</td>\n",
       "      <td>5067.0</td>\n",
       "      <td>0.000000</td>\n",
       "      <td>0.0</td>\n",
       "      <td>0.0</td>\n",
       "    </tr>\n",
       "    <tr>\n",
       "      <th>3</th>\n",
       "      <td>201611</td>\n",
       "      <td>Central Europe Market_PL4L</td>\n",
       "      <td>0.00000</td>\n",
       "      <td>791.0</td>\n",
       "      <td>3022.0</td>\n",
       "      <td>0.000000</td>\n",
       "      <td>0.0</td>\n",
       "      <td>0.0</td>\n",
       "    </tr>\n",
       "    <tr>\n",
       "      <th>4</th>\n",
       "      <td>201611</td>\n",
       "      <td>NorthWest Europe Market_PL4L</td>\n",
       "      <td>0.00000</td>\n",
       "      <td>115.0</td>\n",
       "      <td>2391.0</td>\n",
       "      <td>752.840420</td>\n",
       "      <td>0.0</td>\n",
       "      <td>0.0</td>\n",
       "    </tr>\n",
       "  </tbody>\n",
       "</table>\n",
       "</div>"
      ],
      "text/plain": [
       "   04 FISCAL MONTH                                     id  Net Revenues  \\\n",
       "0           201611  North America Market + AMS Other_PL4L  198428.84872   \n",
       "1           201611              Latin America Market_PL4L   36976.62628   \n",
       "2           201611            Southern Europe Market_PL4L       0.00000   \n",
       "3           201611             Central Europe Market_PL4L       0.00000   \n",
       "4           201611           NorthWest Europe Market_PL4L       0.00000   \n",
       "\n",
       "   Warranty Units Adjusted     WIB  Total Number of Calls  \\\n",
       "0                    166.0  1163.0              68.630716   \n",
       "1                     61.0   414.0              46.718345   \n",
       "2                    356.0  5067.0               0.000000   \n",
       "3                    791.0  3022.0               0.000000   \n",
       "4                    115.0  2391.0             752.840420   \n",
       "\n",
       "   Total Number of Repair Events  AIR (Avg)  \n",
       "0                            0.0        0.0  \n",
       "1                            0.0        0.0  \n",
       "2                            0.0        0.0  \n",
       "3                            0.0        0.0  \n",
       "4                            0.0        0.0  "
      ]
     },
     "execution_count": 7,
     "metadata": {},
     "output_type": "execute_result"
    }
   ],
   "source": [
    "#load\n",
    "data_reg_raw = pd.read_excel('dataset_reg_3.xlsx', sheet_name='data')\n",
    "data_reg = data_reg_raw.fillna(0)\n",
    "data_reg.head()"
   ]
  },
  {
   "cell_type": "code",
   "execution_count": 8,
   "metadata": {},
   "outputs": [],
   "source": [
    "#merge cost and reg\n",
    "all_data = pd.merge(data, data_reg, how='left', on=['04 FISCAL MONTH', 'id'])\n",
    "all_data.reset_index(inplace=True, drop=True)"
   ]
  },
  {
   "cell_type": "code",
   "execution_count": 9,
   "metadata": {},
   "outputs": [],
   "source": [
    "all_data['unique_id'] = all_data['id'] + \"_\" + all_data['line_cost']"
   ]
  },
  {
   "cell_type": "code",
   "execution_count": 10,
   "metadata": {},
   "outputs": [],
   "source": [
    "month_as_date_str = [str(x)[:4] + '-' + str(x)[4:] for x in all_data['04 FISCAL MONTH']]"
   ]
  },
  {
   "cell_type": "code",
   "execution_count": 11,
   "metadata": {},
   "outputs": [],
   "source": [
    "month_date = pd.to_datetime(month_as_date_str)"
   ]
  },
  {
   "cell_type": "code",
   "execution_count": 12,
   "metadata": {},
   "outputs": [],
   "source": [
    "dates = month_date.unique()\n",
    "dtrain = dates[:-6]\n",
    "dtest = dates[-6:]"
   ]
  },
  {
   "cell_type": "code",
   "execution_count": 13,
   "metadata": {},
   "outputs": [],
   "source": [
    "all_data['ds'] = month_date"
   ]
  },
  {
   "cell_type": "code",
   "execution_count": 14,
   "metadata": {},
   "outputs": [],
   "source": [
    "all_data = all_data[['unique_id',\n",
    "             'ds',\n",
    "             'y',\n",
    "             'Net Revenues',\n",
    "             'Warranty Units Adjusted',\n",
    "             'WIB',\n",
    "             'Total Number of Calls',\n",
    "             'Total Number of Repair Events',\n",
    "             'AIR (Avg)']]\n"
   ]
  },
  {
   "cell_type": "code",
   "execution_count": 15,
   "metadata": {},
   "outputs": [],
   "source": [
    "train = all_data[all_data['ds'].isin(dtrain)].copy()\n",
    "X_train = train.drop(columns=['y'])\n",
    "y_train = train[['unique_id', 'ds', 'y']]"
   ]
  },
  {
   "cell_type": "code",
   "execution_count": 16,
   "metadata": {},
   "outputs": [],
   "source": [
    "test = all_data[all_data['ds'].isin(dtest)].copy()\n",
    "X_test = test.drop(columns=['y'])\n",
    "y_test = test[['unique_id', 'ds', 'y']]"
   ]
  },
  {
   "cell_type": "code",
   "execution_count": 17,
   "metadata": {},
   "outputs": [
    {
     "data": {
      "text/plain": [
       "((1154307, 9), (104013, 9))"
      ]
     },
     "execution_count": 17,
     "metadata": {},
     "output_type": "execute_result"
    }
   ],
   "source": [
    "train.shape, test.shape"
   ]
  },
  {
   "cell_type": "code",
   "execution_count": 18,
   "metadata": {},
   "outputs": [
    {
     "data": {
      "text/plain": [
       "29799"
      ]
     },
     "execution_count": 18,
     "metadata": {},
     "output_type": "execute_result"
    }
   ],
   "source": [
    "len(train['unique_id'].unique())"
   ]
  },
  {
   "cell_type": "code",
   "execution_count": 19,
   "metadata": {},
   "outputs": [
    {
     "data": {
      "text/plain": [
       "20286"
      ]
     },
     "execution_count": 19,
     "metadata": {},
     "output_type": "execute_result"
    }
   ],
   "source": [
    "len(test['unique_id'].unique())"
   ]
  },
  {
   "cell_type": "code",
   "execution_count": 20,
   "metadata": {},
   "outputs": [],
   "source": [
    "from statsforecast.models import AutoARIMA"
   ]
  },
  {
   "cell_type": "code",
   "execution_count": 21,
   "metadata": {},
   "outputs": [],
   "source": [
    "models = [AutoARIMA(season_length = 7)]\n",
    "\n",
    "sf = StatsForecast(\n",
    "    models=models,\n",
    "    freq='M',\n",
    "    n_jobs=-1\n",
    ")"
   ]
  },
  {
   "cell_type": "code",
   "execution_count": 22,
   "metadata": {},
   "outputs": [
    {
     "ename": "ValueError",
     "evalue": "Expected X to have shape (178794, 7), but got (104013, 7)",
     "output_type": "error",
     "traceback": [
      "\u001b[1;31m---------------------------------------------------------------------------\u001b[0m",
      "\u001b[1;31mValueError\u001b[0m                                Traceback (most recent call last)",
      "\u001b[1;32mc:\\Users\\nuno\\Desktop\\daniel-nuno\\warranty-cost\\nnet_rndf\\statsmodel.ipynb Cell 19\u001b[0m in \u001b[0;36m<cell line: 4>\u001b[1;34m()\u001b[0m\n\u001b[0;32m      <a href='vscode-notebook-cell:/c%3A/Users/nuno/Desktop/daniel-nuno/warranty-cost/nnet_rndf/statsmodel.ipynb#X24sZmlsZQ%3D%3D?line=0'>1</a>\u001b[0m horizon \u001b[39m=\u001b[39m \u001b[39m6\u001b[39m\n\u001b[0;32m      <a href='vscode-notebook-cell:/c%3A/Users/nuno/Desktop/daniel-nuno/warranty-cost/nnet_rndf/statsmodel.ipynb#X24sZmlsZQ%3D%3D?line=1'>2</a>\u001b[0m level \u001b[39m=\u001b[39m [\u001b[39m95\u001b[39m]\n\u001b[1;32m----> <a href='vscode-notebook-cell:/c%3A/Users/nuno/Desktop/daniel-nuno/warranty-cost/nnet_rndf/statsmodel.ipynb#X24sZmlsZQ%3D%3D?line=3'>4</a>\u001b[0m fcst \u001b[39m=\u001b[39m sf\u001b[39m.\u001b[39;49mforecast(df\u001b[39m=\u001b[39;49mtrain, h\u001b[39m=\u001b[39;49mhorizon, X_df\u001b[39m=\u001b[39;49mX_test)\n\u001b[0;32m      <a href='vscode-notebook-cell:/c%3A/Users/nuno/Desktop/daniel-nuno/warranty-cost/nnet_rndf/statsmodel.ipynb#X24sZmlsZQ%3D%3D?line=4'>5</a>\u001b[0m fcst \u001b[39m=\u001b[39m fcst\u001b[39m.\u001b[39mreset_index()\n\u001b[0;32m      <a href='vscode-notebook-cell:/c%3A/Users/nuno/Desktop/daniel-nuno/warranty-cost/nnet_rndf/statsmodel.ipynb#X24sZmlsZQ%3D%3D?line=5'>6</a>\u001b[0m fcst\u001b[39m.\u001b[39mhead()\n",
      "File \u001b[1;32mc:\\Users\\nuno\\Miniconda3\\envs\\ml\\lib\\site-packages\\statsforecast\\core.py:668\u001b[0m, in \u001b[0;36m_StatsForecast.forecast\u001b[1;34m(self, h, df, X_df, level, fitted, sort_df)\u001b[0m\n\u001b[0;32m    649\u001b[0m \u001b[39m\"\"\"Memory Efficient core.StatsForecast predictions.\u001b[39;00m\n\u001b[0;32m    650\u001b[0m \n\u001b[0;32m    651\u001b[0m \u001b[39mThis method avoids memory burden due from object storage.\u001b[39;00m\n\u001b[1;32m   (...)\u001b[0m\n\u001b[0;32m    665\u001b[0m \u001b[39mpredictions for all fitted `models`.<br>\u001b[39;00m\n\u001b[0;32m    666\u001b[0m \u001b[39m\"\"\"\u001b[39;00m\n\u001b[0;32m    667\u001b[0m \u001b[39mself\u001b[39m\u001b[39m.\u001b[39m_prepare_fit(df, sort_df)\n\u001b[1;32m--> 668\u001b[0m X, level \u001b[39m=\u001b[39m \u001b[39mself\u001b[39;49m\u001b[39m.\u001b[39;49m_parse_X_level(h\u001b[39m=\u001b[39;49mh, X\u001b[39m=\u001b[39;49mX_df, level\u001b[39m=\u001b[39;49mlevel)\n\u001b[0;32m    669\u001b[0m \u001b[39mif\u001b[39;00m \u001b[39mself\u001b[39m\u001b[39m.\u001b[39mn_jobs \u001b[39m==\u001b[39m \u001b[39m1\u001b[39m:\n\u001b[0;32m    670\u001b[0m     res_fcsts \u001b[39m=\u001b[39m \u001b[39mself\u001b[39m\u001b[39m.\u001b[39mga\u001b[39m.\u001b[39mforecast(\n\u001b[0;32m    671\u001b[0m         models\u001b[39m=\u001b[39m\u001b[39mself\u001b[39m\u001b[39m.\u001b[39mmodels,\n\u001b[0;32m    672\u001b[0m         h\u001b[39m=\u001b[39mh,\n\u001b[1;32m   (...)\u001b[0m\n\u001b[0;32m    677\u001b[0m         verbose\u001b[39m=\u001b[39m\u001b[39mself\u001b[39m\u001b[39m.\u001b[39mverbose,\n\u001b[0;32m    678\u001b[0m     )\n",
      "File \u001b[1;32mc:\\Users\\nuno\\Miniconda3\\envs\\ml\\lib\\site-packages\\statsforecast\\core.py:563\u001b[0m, in \u001b[0;36m_StatsForecast._parse_X_level\u001b[1;34m(self, h, X, level)\u001b[0m\n\u001b[0;32m    561\u001b[0m     expected_shape \u001b[39m=\u001b[39m (h \u001b[39m*\u001b[39m \u001b[39mlen\u001b[39m(\u001b[39mself\u001b[39m\u001b[39m.\u001b[39mga), \u001b[39mself\u001b[39m\u001b[39m.\u001b[39mga\u001b[39m.\u001b[39mdata\u001b[39m.\u001b[39mshape[\u001b[39m1\u001b[39m])\n\u001b[0;32m    562\u001b[0m     \u001b[39mif\u001b[39;00m X\u001b[39m.\u001b[39mshape \u001b[39m!=\u001b[39m expected_shape:\n\u001b[1;32m--> 563\u001b[0m         \u001b[39mraise\u001b[39;00m \u001b[39mValueError\u001b[39;00m(\n\u001b[0;32m    564\u001b[0m             \u001b[39mf\u001b[39m\u001b[39m\"\u001b[39m\u001b[39mExpected X to have shape \u001b[39m\u001b[39m{\u001b[39;00mexpected_shape\u001b[39m}\u001b[39;00m\u001b[39m, but got \u001b[39m\u001b[39m{\u001b[39;00mX\u001b[39m.\u001b[39mshape\u001b[39m}\u001b[39;00m\u001b[39m\"\u001b[39m\n\u001b[0;32m    565\u001b[0m         )\n\u001b[0;32m    566\u001b[0m     X, _, _, _ \u001b[39m=\u001b[39m _grouped_array_from_df(X, sort_df\u001b[39m=\u001b[39m\u001b[39mself\u001b[39m\u001b[39m.\u001b[39msort_df)\n\u001b[0;32m    567\u001b[0m \u001b[39mif\u001b[39;00m level \u001b[39mis\u001b[39;00m \u001b[39mNone\u001b[39;00m:\n",
      "\u001b[1;31mValueError\u001b[0m: Expected X to have shape (178794, 7), but got (104013, 7)"
     ]
    }
   ],
   "source": [
    "horizon = 6\n",
    "level = [95]\n",
    "\n",
    "fcst = sf.forecast(df=train, h=horizon, X_df=X_test)\n",
    "fcst = fcst.reset_index()\n",
    "fcst.head()"
   ]
  },
  {
   "cell_type": "code",
   "execution_count": 162,
   "metadata": {},
   "outputs": [
    {
     "ename": "ValueError",
     "evalue": "math domain error",
     "output_type": "error",
     "traceback": [
      "\u001b[1;31m---------------------------------------------------------------------------\u001b[0m",
      "\u001b[1;31mRemoteTraceback\u001b[0m                           Traceback (most recent call last)",
      "\u001b[1;31mRemoteTraceback\u001b[0m: \n\"\"\"\nTraceback (most recent call last):\n  File \"c:\\Users\\nuno\\Miniconda3\\envs\\ml\\lib\\multiprocessing\\pool.py\", line 125, in worker\n    result = (True, func(*args, **kwds))\n  File \"c:\\Users\\nuno\\Miniconda3\\envs\\ml\\lib\\site-packages\\statsforecast\\core.py\", line 199, in forecast\n    raise error\n  File \"c:\\Users\\nuno\\Miniconda3\\envs\\ml\\lib\\site-packages\\statsforecast\\core.py\", line 185, in forecast\n    res_i = model.forecast(\n  File \"c:\\Users\\nuno\\Miniconda3\\envs\\ml\\lib\\site-packages\\statsforecast\\models.py\", line 308, in forecast\n    mod = auto_arima_f(\n  File \"c:\\Users\\nuno\\Miniconda3\\envs\\ml\\lib\\site-packages\\statsforecast\\arima.py\", line 1742, in auto_arima_f\n    fit = Arima(x, order=(0, 0, 0), include_mean=False)\n  File \"c:\\Users\\nuno\\Miniconda3\\envs\\ml\\lib\\site-packages\\statsforecast\\arima.py\", line 1391, in Arima\n    tmp[\"bic\"] = tmp[\"aic\"] + npar * (math.log(nstar) - 2)\nValueError: math domain error\n\"\"\"",
      "\nThe above exception was the direct cause of the following exception:\n",
      "\u001b[1;31mValueError\u001b[0m                                Traceback (most recent call last)",
      "\u001b[1;32mc:\\Users\\nuno\\Desktop\\daniel-nuno\\warranty-cost\\nnet_rndf\\statsmodel.ipynb Cell 20\u001b[0m in \u001b[0;36m<cell line: 1>\u001b[1;34m()\u001b[0m\n\u001b[1;32m----> <a href='vscode-notebook-cell:/c%3A/Users/nuno/Desktop/daniel-nuno/warranty-cost/nnet_rndf/statsmodel.ipynb#X61sZmlsZQ%3D%3D?line=0'>1</a>\u001b[0m fcst_u \u001b[39m=\u001b[39m sf\u001b[39m.\u001b[39;49mforecast(df\u001b[39m=\u001b[39;49mtrain[[\u001b[39m'\u001b[39;49m\u001b[39munique_id\u001b[39;49m\u001b[39m'\u001b[39;49m, \u001b[39m'\u001b[39;49m\u001b[39mds\u001b[39;49m\u001b[39m'\u001b[39;49m, \u001b[39m'\u001b[39;49m\u001b[39my\u001b[39;49m\u001b[39m'\u001b[39;49m]], h\u001b[39m=\u001b[39;49m\u001b[39m6\u001b[39;49m, level\u001b[39m=\u001b[39;49mlevel)\n",
      "File \u001b[1;32mc:\\Users\\nuno\\Miniconda3\\envs\\ml\\lib\\site-packages\\statsforecast\\core.py:680\u001b[0m, in \u001b[0;36m_StatsForecast.forecast\u001b[1;34m(self, h, df, X_df, level, fitted, sort_df)\u001b[0m\n\u001b[0;32m    670\u001b[0m     res_fcsts \u001b[39m=\u001b[39m \u001b[39mself\u001b[39m\u001b[39m.\u001b[39mga\u001b[39m.\u001b[39mforecast(\n\u001b[0;32m    671\u001b[0m         models\u001b[39m=\u001b[39m\u001b[39mself\u001b[39m\u001b[39m.\u001b[39mmodels,\n\u001b[0;32m    672\u001b[0m         h\u001b[39m=\u001b[39mh,\n\u001b[1;32m   (...)\u001b[0m\n\u001b[0;32m    677\u001b[0m         verbose\u001b[39m=\u001b[39m\u001b[39mself\u001b[39m\u001b[39m.\u001b[39mverbose,\n\u001b[0;32m    678\u001b[0m     )\n\u001b[0;32m    679\u001b[0m \u001b[39melse\u001b[39;00m:\n\u001b[1;32m--> 680\u001b[0m     res_fcsts \u001b[39m=\u001b[39m \u001b[39mself\u001b[39;49m\u001b[39m.\u001b[39;49m_forecast_parallel(h\u001b[39m=\u001b[39;49mh, fitted\u001b[39m=\u001b[39;49mfitted, X\u001b[39m=\u001b[39;49mX, level\u001b[39m=\u001b[39;49mlevel)\n\u001b[0;32m    681\u001b[0m \u001b[39mif\u001b[39;00m fitted:\n\u001b[0;32m    682\u001b[0m     \u001b[39mself\u001b[39m\u001b[39m.\u001b[39mfcst_fitted_values_ \u001b[39m=\u001b[39m res_fcsts[\u001b[39m\"\u001b[39m\u001b[39mfitted\u001b[39m\u001b[39m\"\u001b[39m]\n",
      "File \u001b[1;32mc:\\Users\\nuno\\Miniconda3\\envs\\ml\\lib\\site-packages\\statsforecast\\core.py:939\u001b[0m, in \u001b[0;36m_StatsForecast._forecast_parallel\u001b[1;34m(self, h, fitted, X, level)\u001b[0m\n\u001b[0;32m    927\u001b[0m     future \u001b[39m=\u001b[39m executor\u001b[39m.\u001b[39mapply_async(\n\u001b[0;32m    928\u001b[0m         ga\u001b[39m.\u001b[39mforecast,\n\u001b[0;32m    929\u001b[0m         (\n\u001b[1;32m   (...)\u001b[0m\n\u001b[0;32m    936\u001b[0m         ),\n\u001b[0;32m    937\u001b[0m     )\n\u001b[0;32m    938\u001b[0m     futures\u001b[39m.\u001b[39mappend(future)\n\u001b[1;32m--> 939\u001b[0m out \u001b[39m=\u001b[39m [f\u001b[39m.\u001b[39mget() \u001b[39mfor\u001b[39;00m f \u001b[39min\u001b[39;00m futures]\n\u001b[0;32m    940\u001b[0m fcsts \u001b[39m=\u001b[39m [d[\u001b[39m\"\u001b[39m\u001b[39mforecasts\u001b[39m\u001b[39m\"\u001b[39m] \u001b[39mfor\u001b[39;00m d \u001b[39min\u001b[39;00m out]\n\u001b[0;32m    941\u001b[0m fcsts \u001b[39m=\u001b[39m np\u001b[39m.\u001b[39mvstack(fcsts)\n",
      "File \u001b[1;32mc:\\Users\\nuno\\Miniconda3\\envs\\ml\\lib\\site-packages\\statsforecast\\core.py:939\u001b[0m, in \u001b[0;36m<listcomp>\u001b[1;34m(.0)\u001b[0m\n\u001b[0;32m    927\u001b[0m     future \u001b[39m=\u001b[39m executor\u001b[39m.\u001b[39mapply_async(\n\u001b[0;32m    928\u001b[0m         ga\u001b[39m.\u001b[39mforecast,\n\u001b[0;32m    929\u001b[0m         (\n\u001b[1;32m   (...)\u001b[0m\n\u001b[0;32m    936\u001b[0m         ),\n\u001b[0;32m    937\u001b[0m     )\n\u001b[0;32m    938\u001b[0m     futures\u001b[39m.\u001b[39mappend(future)\n\u001b[1;32m--> 939\u001b[0m out \u001b[39m=\u001b[39m [f\u001b[39m.\u001b[39;49mget() \u001b[39mfor\u001b[39;00m f \u001b[39min\u001b[39;00m futures]\n\u001b[0;32m    940\u001b[0m fcsts \u001b[39m=\u001b[39m [d[\u001b[39m\"\u001b[39m\u001b[39mforecasts\u001b[39m\u001b[39m\"\u001b[39m] \u001b[39mfor\u001b[39;00m d \u001b[39min\u001b[39;00m out]\n\u001b[0;32m    941\u001b[0m fcsts \u001b[39m=\u001b[39m np\u001b[39m.\u001b[39mvstack(fcsts)\n",
      "File \u001b[1;32mc:\\Users\\nuno\\Miniconda3\\envs\\ml\\lib\\multiprocessing\\pool.py:771\u001b[0m, in \u001b[0;36mApplyResult.get\u001b[1;34m(self, timeout)\u001b[0m\n\u001b[0;32m    769\u001b[0m     \u001b[39mreturn\u001b[39;00m \u001b[39mself\u001b[39m\u001b[39m.\u001b[39m_value\n\u001b[0;32m    770\u001b[0m \u001b[39melse\u001b[39;00m:\n\u001b[1;32m--> 771\u001b[0m     \u001b[39mraise\u001b[39;00m \u001b[39mself\u001b[39m\u001b[39m.\u001b[39m_value\n",
      "\u001b[1;31mValueError\u001b[0m: math domain error"
     ]
    }
   ],
   "source": [
    "fcst_u = sf.forecast(df=train[['unique_id', 'ds', 'y']], h=6, level=level)"
   ]
  },
  {
   "cell_type": "code",
   "execution_count": null,
   "metadata": {},
   "outputs": [],
   "source": []
  }
 ],
 "metadata": {
  "kernelspec": {
   "display_name": "ml",
   "language": "python",
   "name": "python3"
  },
  "language_info": {
   "codemirror_mode": {
    "name": "ipython",
    "version": 3
   },
   "file_extension": ".py",
   "mimetype": "text/x-python",
   "name": "python",
   "nbconvert_exporter": "python",
   "pygments_lexer": "ipython3",
   "version": "3.10.4"
  },
  "orig_nbformat": 4
 },
 "nbformat": 4,
 "nbformat_minor": 2
}
